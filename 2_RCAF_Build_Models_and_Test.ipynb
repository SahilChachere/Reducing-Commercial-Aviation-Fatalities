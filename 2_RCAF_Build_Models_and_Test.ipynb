{
 "cells": [
  {
   "cell_type": "code",
   "execution_count": 25,
   "metadata": {
    "id": "fwiZi1i1Ushy"
   },
   "outputs": [],
   "source": [
    "#kaggle API token\n",
    "import os\n",
    "os.environ['KAGGLE_CONFIG_DIR'] = '/content/'"
   ]
  },
  {
   "cell_type": "markdown",
   "metadata": {
    "id": "4WpU57MA34Y7"
   },
   "source": [
    "# **1 Import required libraries**"
   ]
  },
  {
   "cell_type": "code",
   "execution_count": 1,
   "metadata": {
    "id": "ZN-XcSC5FLFB"
   },
   "outputs": [],
   "source": [
    "import warnings\n",
    "warnings.filterwarnings('always')\n",
    "warnings.filterwarnings('ignore')\n",
    "\n",
    "import pandas as pd\n",
    "import numpy as np\n",
    "import joblib\n",
    "import random\n",
    "from tqdm import tqdm\n",
    "\n",
    "import matplotlib.pyplot as plt\n",
    "import seaborn as sns\n",
    "\n",
    "from sklearn.model_selection import train_test_split, RandomizedSearchCV\n",
    "from sklearn.utils import class_weight\n",
    "from sklearn.metrics import log_loss\n",
    "from sklearn.tree import DecisionTreeClassifier\n",
    "from sklearn.ensemble import RandomForestClassifier, AdaBoostClassifier\n",
    "from lightgbm import LGBMClassifier\n",
    "from xgboost import XGBClassifier\n",
    "\n",
    "from keras.utils import to_categorical\n",
    "from keras.models import Sequential, load_model\n",
    "from keras.layers import Dense, Dropout, BatchNormalization, MaxPool1D\n",
    "\n",
    "%load_ext tensorboard\n",
    "from keras.callbacks import TensorBoard"
   ]
  },
  {
   "cell_type": "markdown",
   "metadata": {
    "id": "Qvtom1PS38og"
   },
   "source": [
    "# **2 Load data**"
   ]
  },
  {
   "cell_type": "markdown",
   "metadata": {
    "id": "05Bli3OEJOhN"
   },
   "source": [
    "**Load train Data**"
   ]
  },
  {
   "cell_type": "code",
   "execution_count": 2,
   "metadata": {
    "id": "n4fdxKRJiwfK"
   },
   "outputs": [],
   "source": [
    "train_LTB = joblib.load('/content/drive/MyDrive/applied aic/case studies/rcaf/train_data/train_LTB_standardized.pkl')"
   ]
  },
  {
   "cell_type": "code",
   "execution_count": null,
   "metadata": {
    "colab": {
     "base_uri": "https://localhost:8080/",
     "height": 456
    },
    "id": "e7h9xpg_9jjJ",
    "outputId": "e2759aac-08e4-4c9b-8e88-8c996c877c3d"
   },
   "outputs": [
    {
     "data": {
      "text/html": [
       "<div>\n",
       "<style scoped>\n",
       "    .dataframe tbody tr th:only-of-type {\n",
       "        vertical-align: middle;\n",
       "    }\n",
       "\n",
       "    .dataframe tbody tr th {\n",
       "        vertical-align: top;\n",
       "    }\n",
       "\n",
       "    .dataframe thead th {\n",
       "        text-align: right;\n",
       "    }\n",
       "</style>\n",
       "<table border=\"1\" class=\"dataframe\">\n",
       "  <thead>\n",
       "    <tr style=\"text-align: right;\">\n",
       "      <th></th>\n",
       "      <th>filtered_ecg_signal</th>\n",
       "      <th>filtered_gsr_signal</th>\n",
       "      <th>filtered_respiration_signal</th>\n",
       "      <th>eeg_fp1-f7</th>\n",
       "      <th>eeg_f7-t3</th>\n",
       "      <th>eeg_t3-t5</th>\n",
       "      <th>eeg_t5-o1</th>\n",
       "      <th>eeg_fp1-f3</th>\n",
       "      <th>eeg_f3-c3</th>\n",
       "      <th>eeg_c3-p3</th>\n",
       "      <th>eeg_p3-o1</th>\n",
       "      <th>eeg_t3-c3</th>\n",
       "      <th>eeg_c3-cz</th>\n",
       "      <th>eeg_cz-c4</th>\n",
       "      <th>eeg_c4-t4</th>\n",
       "      <th>eeg_fp2-f8</th>\n",
       "      <th>eeg_f8-t4</th>\n",
       "      <th>eeg_t4-t6</th>\n",
       "      <th>eeg_t6-o2</th>\n",
       "      <th>eeg_fp2-f4</th>\n",
       "      <th>eeg_f4-c4</th>\n",
       "      <th>eeg_c4-p4</th>\n",
       "      <th>eeg_p4-o2</th>\n",
       "      <th>event</th>\n",
       "    </tr>\n",
       "  </thead>\n",
       "  <tbody>\n",
       "    <tr>\n",
       "      <th>0</th>\n",
       "      <td>0.000017</td>\n",
       "      <td>0.002526</td>\n",
       "      <td>-0.000506</td>\n",
       "      <td>-0.990796</td>\n",
       "      <td>0.062082</td>\n",
       "      <td>-0.461029</td>\n",
       "      <td>0.167230</td>\n",
       "      <td>-0.537239</td>\n",
       "      <td>-0.075824</td>\n",
       "      <td>-0.451149</td>\n",
       "      <td>-0.186699</td>\n",
       "      <td>0.154520</td>\n",
       "      <td>1.369372</td>\n",
       "      <td>-2.241728</td>\n",
       "      <td>2.086796</td>\n",
       "      <td>0.013534</td>\n",
       "      <td>0.077024</td>\n",
       "      <td>-1.398095</td>\n",
       "      <td>0.107120</td>\n",
       "      <td>-0.244838</td>\n",
       "      <td>-0.914358</td>\n",
       "      <td>1.705960</td>\n",
       "      <td>0.160260</td>\n",
       "      <td>0</td>\n",
       "    </tr>\n",
       "    <tr>\n",
       "      <th>1</th>\n",
       "      <td>0.000017</td>\n",
       "      <td>0.002526</td>\n",
       "      <td>-0.000506</td>\n",
       "      <td>-0.956225</td>\n",
       "      <td>0.201983</td>\n",
       "      <td>-0.434192</td>\n",
       "      <td>0.141678</td>\n",
       "      <td>-0.520903</td>\n",
       "      <td>-0.041812</td>\n",
       "      <td>-0.307931</td>\n",
       "      <td>-0.107912</td>\n",
       "      <td>0.002200</td>\n",
       "      <td>1.115051</td>\n",
       "      <td>-1.616374</td>\n",
       "      <td>1.446252</td>\n",
       "      <td>0.014096</td>\n",
       "      <td>-0.242997</td>\n",
       "      <td>-0.934474</td>\n",
       "      <td>-0.073186</td>\n",
       "      <td>-0.320875</td>\n",
       "      <td>-0.646735</td>\n",
       "      <td>0.994528</td>\n",
       "      <td>0.090173</td>\n",
       "      <td>0</td>\n",
       "    </tr>\n",
       "    <tr>\n",
       "      <th>2</th>\n",
       "      <td>0.000017</td>\n",
       "      <td>0.002526</td>\n",
       "      <td>-0.000506</td>\n",
       "      <td>-0.636657</td>\n",
       "      <td>0.123888</td>\n",
       "      <td>-0.310765</td>\n",
       "      <td>0.149698</td>\n",
       "      <td>-0.305796</td>\n",
       "      <td>-0.000149</td>\n",
       "      <td>-0.474425</td>\n",
       "      <td>-0.054708</td>\n",
       "      <td>0.150501</td>\n",
       "      <td>1.162661</td>\n",
       "      <td>0.746872</td>\n",
       "      <td>-1.566992</td>\n",
       "      <td>-0.578305</td>\n",
       "      <td>-0.380939</td>\n",
       "      <td>0.406826</td>\n",
       "      <td>-0.268486</td>\n",
       "      <td>-0.305182</td>\n",
       "      <td>0.632106</td>\n",
       "      <td>-2.769991</td>\n",
       "      <td>-0.156141</td>\n",
       "      <td>0</td>\n",
       "    </tr>\n",
       "    <tr>\n",
       "      <th>3</th>\n",
       "      <td>0.000017</td>\n",
       "      <td>0.002526</td>\n",
       "      <td>-0.000506</td>\n",
       "      <td>-0.475835</td>\n",
       "      <td>0.171364</td>\n",
       "      <td>-0.566492</td>\n",
       "      <td>0.034061</td>\n",
       "      <td>-0.223810</td>\n",
       "      <td>-0.003538</td>\n",
       "      <td>-0.516215</td>\n",
       "      <td>-0.270948</td>\n",
       "      <td>0.008826</td>\n",
       "      <td>0.933483</td>\n",
       "      <td>-0.864222</td>\n",
       "      <td>0.236726</td>\n",
       "      <td>-0.165307</td>\n",
       "      <td>-0.402901</td>\n",
       "      <td>-0.384556</td>\n",
       "      <td>0.076603</td>\n",
       "      <td>-0.283559</td>\n",
       "      <td>-0.202307</td>\n",
       "      <td>-0.431194</td>\n",
       "      <td>0.227463</td>\n",
       "      <td>0</td>\n",
       "    </tr>\n",
       "    <tr>\n",
       "      <th>4</th>\n",
       "      <td>0.000016</td>\n",
       "      <td>0.002526</td>\n",
       "      <td>-0.000506</td>\n",
       "      <td>-0.605326</td>\n",
       "      <td>0.136157</td>\n",
       "      <td>-0.377437</td>\n",
       "      <td>-0.104362</td>\n",
       "      <td>-0.284636</td>\n",
       "      <td>-0.060104</td>\n",
       "      <td>-0.511513</td>\n",
       "      <td>-0.277651</td>\n",
       "      <td>0.029641</td>\n",
       "      <td>1.034743</td>\n",
       "      <td>-0.255650</td>\n",
       "      <td>0.011602</td>\n",
       "      <td>-0.145140</td>\n",
       "      <td>-0.245467</td>\n",
       "      <td>-0.667188</td>\n",
       "      <td>-0.127322</td>\n",
       "      <td>-0.248356</td>\n",
       "      <td>0.022255</td>\n",
       "      <td>-1.443984</td>\n",
       "      <td>-0.003291</td>\n",
       "      <td>0</td>\n",
       "    </tr>\n",
       "    <tr>\n",
       "      <th>...</th>\n",
       "      <td>...</td>\n",
       "      <td>...</td>\n",
       "      <td>...</td>\n",
       "      <td>...</td>\n",
       "      <td>...</td>\n",
       "      <td>...</td>\n",
       "      <td>...</td>\n",
       "      <td>...</td>\n",
       "      <td>...</td>\n",
       "      <td>...</td>\n",
       "      <td>...</td>\n",
       "      <td>...</td>\n",
       "      <td>...</td>\n",
       "      <td>...</td>\n",
       "      <td>...</td>\n",
       "      <td>...</td>\n",
       "      <td>...</td>\n",
       "      <td>...</td>\n",
       "      <td>...</td>\n",
       "      <td>...</td>\n",
       "      <td>...</td>\n",
       "      <td>...</td>\n",
       "      <td>...</td>\n",
       "      <td>...</td>\n",
       "    </tr>\n",
       "    <tr>\n",
       "      <th>4867416</th>\n",
       "      <td>-0.394661</td>\n",
       "      <td>-2.130485</td>\n",
       "      <td>-0.138419</td>\n",
       "      <td>0.601303</td>\n",
       "      <td>-1.468751</td>\n",
       "      <td>-0.225165</td>\n",
       "      <td>0.043749</td>\n",
       "      <td>-0.406079</td>\n",
       "      <td>-0.381982</td>\n",
       "      <td>-0.765261</td>\n",
       "      <td>0.567929</td>\n",
       "      <td>-0.420419</td>\n",
       "      <td>0.629352</td>\n",
       "      <td>0.718721</td>\n",
       "      <td>-0.318943</td>\n",
       "      <td>-0.232573</td>\n",
       "      <td>-0.190880</td>\n",
       "      <td>1.211385</td>\n",
       "      <td>-1.545929</td>\n",
       "      <td>-0.109309</td>\n",
       "      <td>0.015374</td>\n",
       "      <td>-1.841067</td>\n",
       "      <td>0.267008</td>\n",
       "      <td>0</td>\n",
       "    </tr>\n",
       "    <tr>\n",
       "      <th>4867417</th>\n",
       "      <td>-0.383370</td>\n",
       "      <td>-2.130562</td>\n",
       "      <td>-0.138443</td>\n",
       "      <td>-3.069250</td>\n",
       "      <td>1.763412</td>\n",
       "      <td>1.697806</td>\n",
       "      <td>-0.380365</td>\n",
       "      <td>1.604349</td>\n",
       "      <td>-5.500784</td>\n",
       "      <td>10.657767</td>\n",
       "      <td>-0.015044</td>\n",
       "      <td>-3.586099</td>\n",
       "      <td>5.300180</td>\n",
       "      <td>-7.208307</td>\n",
       "      <td>6.281775</td>\n",
       "      <td>1.063037</td>\n",
       "      <td>-1.458277</td>\n",
       "      <td>-1.486740</td>\n",
       "      <td>0.715306</td>\n",
       "      <td>-1.185666</td>\n",
       "      <td>-2.561664</td>\n",
       "      <td>11.617146</td>\n",
       "      <td>0.033155</td>\n",
       "      <td>0</td>\n",
       "    </tr>\n",
       "    <tr>\n",
       "      <th>4867418</th>\n",
       "      <td>-0.372039</td>\n",
       "      <td>-2.130638</td>\n",
       "      <td>-0.138468</td>\n",
       "      <td>0.646365</td>\n",
       "      <td>-1.528798</td>\n",
       "      <td>-0.142058</td>\n",
       "      <td>-0.207044</td>\n",
       "      <td>-0.493910</td>\n",
       "      <td>-0.409933</td>\n",
       "      <td>-0.299921</td>\n",
       "      <td>0.368153</td>\n",
       "      <td>-0.642105</td>\n",
       "      <td>0.477762</td>\n",
       "      <td>0.846325</td>\n",
       "      <td>-0.173790</td>\n",
       "      <td>-0.234633</td>\n",
       "      <td>-0.090817</td>\n",
       "      <td>1.018900</td>\n",
       "      <td>-1.520671</td>\n",
       "      <td>-0.170953</td>\n",
       "      <td>0.076153</td>\n",
       "      <td>-1.789762</td>\n",
       "      <td>0.232007</td>\n",
       "      <td>0</td>\n",
       "    </tr>\n",
       "    <tr>\n",
       "      <th>4867419</th>\n",
       "      <td>-0.360670</td>\n",
       "      <td>-2.130715</td>\n",
       "      <td>-0.138493</td>\n",
       "      <td>0.220449</td>\n",
       "      <td>2.390967</td>\n",
       "      <td>-6.446081</td>\n",
       "      <td>0.028676</td>\n",
       "      <td>1.287654</td>\n",
       "      <td>-7.176581</td>\n",
       "      <td>7.674795</td>\n",
       "      <td>3.147124</td>\n",
       "      <td>-12.991162</td>\n",
       "      <td>7.677876</td>\n",
       "      <td>-6.204357</td>\n",
       "      <td>6.840745</td>\n",
       "      <td>-0.747728</td>\n",
       "      <td>0.658026</td>\n",
       "      <td>-2.421665</td>\n",
       "      <td>0.712912</td>\n",
       "      <td>-1.267337</td>\n",
       "      <td>-2.737719</td>\n",
       "      <td>4.127755</td>\n",
       "      <td>4.379874</td>\n",
       "      <td>0</td>\n",
       "    </tr>\n",
       "    <tr>\n",
       "      <th>4867420</th>\n",
       "      <td>-0.349264</td>\n",
       "      <td>-2.130791</td>\n",
       "      <td>-0.138517</td>\n",
       "      <td>0.729000</td>\n",
       "      <td>-1.513128</td>\n",
       "      <td>0.611678</td>\n",
       "      <td>-0.595699</td>\n",
       "      <td>-0.356702</td>\n",
       "      <td>-0.128256</td>\n",
       "      <td>-0.428442</td>\n",
       "      <td>0.080997</td>\n",
       "      <td>-0.020641</td>\n",
       "      <td>0.201081</td>\n",
       "      <td>0.823836</td>\n",
       "      <td>-0.759268</td>\n",
       "      <td>-0.185738</td>\n",
       "      <td>-0.344747</td>\n",
       "      <td>1.317023</td>\n",
       "      <td>-1.236264</td>\n",
       "      <td>-0.066879</td>\n",
       "      <td>0.161027</td>\n",
       "      <td>-1.902247</td>\n",
       "      <td>0.229424</td>\n",
       "      <td>0</td>\n",
       "    </tr>\n",
       "  </tbody>\n",
       "</table>\n",
       "<p>4867421 rows × 24 columns</p>\n",
       "</div>"
      ],
      "text/plain": [
       "         filtered_ecg_signal  filtered_gsr_signal  ...  eeg_p4-o2  event\n",
       "0                   0.000017             0.002526  ...   0.160260      0\n",
       "1                   0.000017             0.002526  ...   0.090173      0\n",
       "2                   0.000017             0.002526  ...  -0.156141      0\n",
       "3                   0.000017             0.002526  ...   0.227463      0\n",
       "4                   0.000016             0.002526  ...  -0.003291      0\n",
       "...                      ...                  ...  ...        ...    ...\n",
       "4867416            -0.394661            -2.130485  ...   0.267008      0\n",
       "4867417            -0.383370            -2.130562  ...   0.033155      0\n",
       "4867418            -0.372039            -2.130638  ...   0.232007      0\n",
       "4867419            -0.360670            -2.130715  ...   4.379874      0\n",
       "4867420            -0.349264            -2.130791  ...   0.229424      0\n",
       "\n",
       "[4867421 rows x 24 columns]"
      ]
     },
     "execution_count": 7,
     "metadata": {
      "tags": []
     },
     "output_type": "execute_result"
    }
   ],
   "source": [
    "train_LTB"
   ]
  },
  {
   "cell_type": "markdown",
   "metadata": {
    "id": "X6utMQsGJScm"
   },
   "source": [
    "**Load test Data**"
   ]
  },
  {
   "cell_type": "code",
   "execution_count": 3,
   "metadata": {
    "id": "59Fse0shJU0g"
   },
   "outputs": [],
   "source": [
    "#load test data \n",
    "test_LTB = joblib.load('/content/drive/MyDrive/applied aic/case studies/rcaf/test_data/test_LTB_standardized.pkl')"
   ]
  },
  {
   "cell_type": "markdown",
   "metadata": {
    "id": "IZhpugVLjFy7"
   },
   "source": [
    "# **3 Class label count**"
   ]
  },
  {
   "cell_type": "code",
   "execution_count": null,
   "metadata": {
    "colab": {
     "base_uri": "https://localhost:8080/",
     "height": 599
    },
    "id": "4mD7pK1L1eUG",
    "outputId": "ec4a231c-94ff-4559-da36-8f16867812d0"
   },
   "outputs": [
    {
     "name": "stdout",
     "output_type": "stream",
     "text": [
      "0    2848809\n",
      "2    1652686\n",
      "3     235329\n",
      "1     130597\n",
      "Name: event, dtype: int64\n"
     ]
    },
    {
     "data": {
      "image/png": "[encoded data removed]",
      "text/plain": [
       "<Figure size 576x576 with 1 Axes>"
      ]
     },
     "metadata": {
      "needs_background": "light",
      "tags": []
     },
     "output_type": "display_data"
    }
   ],
   "source": [
    "#count of each label\n",
    "print(train_LTB.event.value_counts())\n",
    "#plot\n",
    "plt.figure(figsize=(8, 8))\n",
    "sns.countplot(train_LTB.event)\n",
    "plt.title(\"Distribution of Class labels\", fontsize=14)\n",
    "plt.xlabel(\"Pilot's Cogntive State\", fontsize=11)\n",
    "plt.ylabel(\"Count\", fontsize=11)\n",
    "#display plot\n",
    "plt.show()"
   ]
  },
  {
   "cell_type": "markdown",
   "metadata": {
    "id": "Q4Qj6TLP16KN"
   },
   "source": [
    "0 = A(Baseline)<br>\n",
    "1 = B(Surprise/Startle)<br>\n",
    "2 = C(Channelized attention)<br>\n",
    "3 = D(Diverted attention)"
   ]
  },
  {
   "cell_type": "markdown",
   "metadata": {
    "id": "5lp-nuji4CbN"
   },
   "source": [
    "# **4 Data separation**"
   ]
  },
  {
   "cell_type": "code",
   "execution_count": null,
   "metadata": {
    "id": "kUr9O6xb3igA"
   },
   "outputs": [],
   "source": [
    "#class labels\n",
    "y = train_LTB['event']\n",
    "#for MLP\n",
    "dummy_y = to_categorical(y, num_classes=4)\n",
    "#features\n",
    "X = train_LTB.drop(['event'], axis=1)"
   ]
  },
  {
   "cell_type": "code",
   "execution_count": null,
   "metadata": {
    "id": "7TsCs-Ih20NI"
   },
   "outputs": [],
   "source": [
    "#train and cross validation split of train data.\n",
    "X_train, X_cv, y_train, y_cv = train_test_split(X, dummy_y, test_size=0.2, stratify=y)"
   ]
  },
  {
   "cell_type": "code",
   "execution_count": null,
   "metadata": {
    "colab": {
     "base_uri": "https://localhost:8080/"
    },
    "id": "zg2i_QKK30yu",
    "outputId": "f8818a76-08f0-453d-b18b-b6ad524c53da"
   },
   "outputs": [
    {
     "name": "stdout",
     "output_type": "stream",
     "text": [
      "X_train shape: (3893936, 23)\n",
      "X_cv shape: (973485, 23)\n"
     ]
    }
   ],
   "source": [
    "print('X_train shape:', X_train.shape)\n",
    "print('X_cv shape:', X_cv.shape)"
   ]
  },
  {
   "cell_type": "markdown",
   "metadata": {
    "id": "qX80V_uX2_V9"
   },
   "source": [
    "# **5 Build Machine learning model**<br>\n",
    "\n",
    "Here the problem is classification based so will use classification based ML algorithm to train classifier."
   ]
  },
  {
   "cell_type": "markdown",
   "metadata": {
    "id": "MVX1KkjrhGoj"
   },
   "source": [
    "## **Random Forest Classifier**"
   ]
  },
  {
   "cell_type": "markdown",
   "metadata": {
    "id": "GJp10mNChYC5"
   },
   "source": [
    "**Randomized search on hyper parameters**"
   ]
  },
  {
   "cell_type": "code",
   "execution_count": null,
   "metadata": {
    "id": "upMRCPAOlK_C"
   },
   "outputs": [],
   "source": [
    "#object of RandomForestClassifier\n",
    "rf_clf = RandomForestClassifier()"
   ]
  },
  {
   "cell_type": "code",
   "execution_count": null,
   "metadata": {
    "colab": {
     "base_uri": "https://localhost:8080/"
    },
    "id": "JpQEMlDNmJgv",
    "outputId": "660f43e5-0e45-4aff-f5fa-739a16fa1d77"
   },
   "outputs": [
    {
     "name": "stdout",
     "output_type": "stream",
     "text": [
      "Fitting 3 folds for each of 3 candidates, totalling 9 fits\n",
      "[Parallel(n_jobs=-1)]: Using backend LokyBackend with 2 concurrent workers.\n",
      "[Parallel(n_jobs=-1)]: Done   1 tasks      | elapsed: 22.2min\n",
      "[Parallel(n_jobs=-1)]: Done   2 tasks      | elapsed: 22.4min\n",
      "[Parallel(n_jobs=-1)]: Done   3 tasks      | elapsed: 47.1min\n",
      "[Parallel(n_jobs=-1)]: Done   4 tasks      | elapsed: 70.8min\n",
      "[Parallel(n_jobs=-1)]: Done   5 tasks      | elapsed: 96.4min\n",
      "[Parallel(n_jobs=-1)]: Done   6 tasks      | elapsed: 119.4min\n",
      "[Parallel(n_jobs=-1)]: Done   7 out of   9 | elapsed: 156.8min remaining: 44.8min\n",
      "[Parallel(n_jobs=-1)]: Done   9 out of   9 | elapsed: 210.5min remaining:    0.0s\n",
      "[Parallel(n_jobs=-1)]: Done   9 out of   9 | elapsed: 210.5min finished\n"
     ]
    },
    {
     "data": {
      "text/plain": [
       "RandomizedSearchCV(cv=3, error_score=nan,\n",
       "                   estimator=RandomForestClassifier(bootstrap=True,\n",
       "                                                    ccp_alpha=0.0,\n",
       "                                                    class_weight=None,\n",
       "                                                    criterion='gini',\n",
       "                                                    max_depth=None,\n",
       "                                                    max_features='auto',\n",
       "                                                    max_leaf_nodes=None,\n",
       "                                                    max_samples=None,\n",
       "                                                    min_impurity_decrease=0.0,\n",
       "                                                    min_impurity_split=None,\n",
       "                                                    min_samples_leaf=1,\n",
       "                                                    min_samples_split=2,\n",
       "                                                    min_weight_fraction_leaf=0.0,\n",
       "                                                    n_estimators=100,\n",
       "                                                    n_jobs=None,\n",
       "                                                    oob_score=False,\n",
       "                                                    random_state=None,\n",
       "                                                    verbose=0,\n",
       "                                                    warm_start=False),\n",
       "                   iid='deprecated', n_iter=10, n_jobs=-1,\n",
       "                   param_distributions={'class_weight': ['balanced'],\n",
       "                                        'max_depth': [300],\n",
       "                                        'max_features': ['auto'],\n",
       "                                        'n_estimators': [20, 40, 50],\n",
       "                                        'random_state': [40]},\n",
       "                   pre_dispatch='2*n_jobs', random_state=None, refit=True,\n",
       "                   return_train_score=False, scoring=None, verbose=500)"
      ]
     },
     "execution_count": 9,
     "metadata": {
      "tags": []
     },
     "output_type": "execute_result"
    }
   ],
   "source": [
    "#https://towardsdatascience.com/hyperparameter-tuning-the-random-forest-in-python-using-scikit-learn-28d2aa77dd74\n",
    "#parameters to pass\n",
    "rf_params = {\"n_estimators\":[20,40,50],\n",
    "              \"max_depth\" : [300], \n",
    "              \"max_features\" : ['auto'],\n",
    "              \"random_state\" : [40],\n",
    "              \"class_weight\": ['balanced']\n",
    "              } \n",
    "\n",
    "#RandomizedSearchCV\n",
    "rf_rscv = RandomizedSearchCV(rf_clf,param_distributions=rf_params,cv=3,n_jobs=-1, verbose=500)\n",
    "rf_rscv.fit(X_train, y_train)"
   ]
  },
  {
   "cell_type": "code",
   "execution_count": null,
   "metadata": {
    "colab": {
     "base_uri": "https://localhost:8080/"
    },
    "id": "utr1EO3yz2z1",
    "outputId": "df693f0b-0f12-4d97-a71d-56041d4f996e"
   },
   "outputs": [
    {
     "name": "stdout",
     "output_type": "stream",
     "text": [
      "best parameters: {'random_state': 40, 'n_estimators': 50, 'max_features': 'auto', 'max_depth': 300, 'class_weight': 'balanced'}\n",
      "best score: 0.9086636241990473\n"
     ]
    }
   ],
   "source": [
    "print('best parameters:',rf_rscv.best_params_)\n",
    "print('best score:', rf_rscv.best_score_)"
   ]
  },
  {
   "cell_type": "markdown",
   "metadata": {
    "id": "O5LNbeDHhb10"
   },
   "source": [
    "**Train model with best parameters**"
   ]
  },
  {
   "cell_type": "code",
   "execution_count": null,
   "metadata": {
    "colab": {
     "base_uri": "https://localhost:8080/"
    },
    "id": "_14Frvp_heC2",
    "outputId": "473926a0-9bdb-4aaa-d475-690f1e9736db"
   },
   "outputs": [
    {
     "data": {
      "text/plain": [
       "RandomForestClassifier(bootstrap=True, ccp_alpha=0.0, class_weight='balanced',\n",
       "                       criterion='gini', max_depth=300, max_features='auto',\n",
       "                       max_leaf_nodes=None, max_samples=None,\n",
       "                       min_impurity_decrease=0.0, min_impurity_split=None,\n",
       "                       min_samples_leaf=1, min_samples_split=2,\n",
       "                       min_weight_fraction_leaf=0.0, n_estimators=50,\n",
       "                       n_jobs=None, oob_score=False, random_state=40, verbose=0,\n",
       "                       warm_start=False)"
      ]
     },
     "execution_count": 11,
     "metadata": {
      "tags": []
     },
     "output_type": "execute_result"
    }
   ],
   "source": [
    "#train with best parameters\n",
    "rf_model = RandomForestClassifier(random_state= 40, n_estimators= 50, \n",
    "                                  max_features= 'auto', max_depth= 300, \n",
    "                                  class_weight= 'balanced')\n",
    "rf_model.fit(X_train, y_train)"
   ]
  },
  {
   "cell_type": "markdown",
   "metadata": {
    "id": "ddmyLJkPXzJb"
   },
   "source": [
    "**Store and load model**"
   ]
  },
  {
   "cell_type": "code",
   "execution_count": null,
   "metadata": {
    "colab": {
     "base_uri": "https://localhost:8080/"
    },
    "id": "Qm7BGEnb6gu5",
    "outputId": "901c9b52-c2f2-4178-baa9-dcbf49b05dda"
   },
   "outputs": [
    {
     "data": {
      "text/plain": [
       "['/content/rf_model.pkl']"
      ]
     },
     "execution_count": 13,
     "metadata": {
      "tags": []
     },
     "output_type": "execute_result"
    }
   ],
   "source": [
    "#save model\n",
    "joblib.dump(rf_model,'/content/rf_model.pkl')"
   ]
  },
  {
   "cell_type": "code",
   "execution_count": null,
   "metadata": {
    "id": "HyW6y_uQ672j"
   },
   "outputs": [],
   "source": [
    "#copy to google drive\n",
    "!cp '/content/rf_model.pkl' '/content/drive/MyDrive/applied aic/case studies/rcaf/models/'"
   ]
  },
  {
   "cell_type": "code",
   "execution_count": null,
   "metadata": {
    "id": "wyUJYRIMXJDF"
   },
   "outputs": [],
   "source": [
    "#load saved model\n",
    "rf_model_final = joblib.load('/content/drive/MyDrive/applied aic/case studies/rcaf/models/rf_model.pkl')"
   ]
  },
  {
   "cell_type": "markdown",
   "metadata": {
    "id": "R1IsAFh3Wme-"
   },
   "source": [
    "**Prediction on cross validation data**"
   ]
  },
  {
   "cell_type": "code",
   "execution_count": null,
   "metadata": {
    "colab": {
     "base_uri": "https://localhost:8080/"
    },
    "id": "93E1nSn27RS_",
    "outputId": "56cb5439-ba3f-401b-8822-7b3965cc2b91"
   },
   "outputs": [
    {
     "name": "stdout",
     "output_type": "stream",
     "text": [
      "0.12299642135951006\n"
     ]
    }
   ],
   "source": [
    "#get probabilities of cv data and log loss. \n",
    "rf_cv_predictions = rf_model_final.predict_proba(X_cv)\n",
    "print(log_loss(y_cv,rf_cv_predictions))"
   ]
  },
  {
   "cell_type": "markdown",
   "metadata": {
    "id": "hIPrkzAHjbyX"
   },
   "source": [
    "on cross validation data logloss is 0.12 for RandomForest Classifier."
   ]
  },
  {
   "cell_type": "markdown",
   "metadata": {
    "id": "eWncBbswWxRg"
   },
   "source": [
    "**Prediction on actual test data with random forest classifier**"
   ]
  },
  {
   "cell_type": "code",
   "execution_count": null,
   "metadata": {
    "colab": {
     "base_uri": "https://localhost:8080/"
    },
    "id": "UxjcILAqW3AJ",
    "outputId": "c988dcba-b2a1-4654-b16c-9d9bac88a59f"
   },
   "outputs": [
    {
     "name": "stdout",
     "output_type": "stream",
     "text": [
      "[[0.8  0.02 0.04 0.14]\n",
      " [0.8  0.02 0.08 0.1 ]\n",
      " [0.88 0.   0.06 0.06]\n",
      " ...\n",
      " [0.58 0.   0.4  0.02]\n",
      " [0.46 0.   0.52 0.02]\n",
      " [0.5  0.   0.48 0.02]]\n"
     ]
    }
   ],
   "source": [
    "#get probabilities of test data\n",
    "rf_test_predictions = rf_model_final.predict_proba(test_LTB)\n",
    "print(rf_test_predictions)"
   ]
  },
  {
   "cell_type": "markdown",
   "metadata": {
    "id": "TyqaR_GHj_jB"
   },
   "source": [
    "**Kaggle submission**"
   ]
  },
  {
   "cell_type": "code",
   "execution_count": null,
   "metadata": {
    "id": "TQGRaTMpQByV"
   },
   "outputs": [],
   "source": [
    "#create described submission file by kaggle.\n",
    "#file must have id, A, B, C, D columns\n",
    "submission_rf = pd.DataFrame(np.concatenate((np.arange(len(test_LTB))[:, np.newaxis], rf_test_predictions), \n",
    "                                         axis=1), columns=['id', 'A', 'B', 'C', 'D'],)\n",
    "submission_rf['id'] = submission_rf['id'].astype(int)"
   ]
  },
  {
   "cell_type": "code",
   "execution_count": null,
   "metadata": {
    "colab": {
     "base_uri": "https://localhost:8080/",
     "height": 419
    },
    "id": "8UKzewEVS9gg",
    "outputId": "1bdda8ac-fe93-47e1-f880-3ccb8e6455e7"
   },
   "outputs": [
    {
     "data": {
      "text/html": [
       "<div>\n",
       "<style scoped>\n",
       "    .dataframe tbody tr th:only-of-type {\n",
       "        vertical-align: middle;\n",
       "    }\n",
       "\n",
       "    .dataframe tbody tr th {\n",
       "        vertical-align: top;\n",
       "    }\n",
       "\n",
       "    .dataframe thead th {\n",
       "        text-align: right;\n",
       "    }\n",
       "</style>\n",
       "<table border=\"1\" class=\"dataframe\">\n",
       "  <thead>\n",
       "    <tr style=\"text-align: right;\">\n",
       "      <th></th>\n",
       "      <th>id</th>\n",
       "      <th>A</th>\n",
       "      <th>B</th>\n",
       "      <th>C</th>\n",
       "      <th>D</th>\n",
       "    </tr>\n",
       "  </thead>\n",
       "  <tbody>\n",
       "    <tr>\n",
       "      <th>0</th>\n",
       "      <td>0</td>\n",
       "      <td>0.80</td>\n",
       "      <td>0.02</td>\n",
       "      <td>0.04</td>\n",
       "      <td>0.14</td>\n",
       "    </tr>\n",
       "    <tr>\n",
       "      <th>1</th>\n",
       "      <td>1</td>\n",
       "      <td>0.80</td>\n",
       "      <td>0.02</td>\n",
       "      <td>0.08</td>\n",
       "      <td>0.10</td>\n",
       "    </tr>\n",
       "    <tr>\n",
       "      <th>2</th>\n",
       "      <td>2</td>\n",
       "      <td>0.88</td>\n",
       "      <td>0.00</td>\n",
       "      <td>0.06</td>\n",
       "      <td>0.06</td>\n",
       "    </tr>\n",
       "    <tr>\n",
       "      <th>3</th>\n",
       "      <td>3</td>\n",
       "      <td>0.78</td>\n",
       "      <td>0.02</td>\n",
       "      <td>0.08</td>\n",
       "      <td>0.12</td>\n",
       "    </tr>\n",
       "    <tr>\n",
       "      <th>4</th>\n",
       "      <td>4</td>\n",
       "      <td>0.94</td>\n",
       "      <td>0.00</td>\n",
       "      <td>0.02</td>\n",
       "      <td>0.04</td>\n",
       "    </tr>\n",
       "    <tr>\n",
       "      <th>...</th>\n",
       "      <td>...</td>\n",
       "      <td>...</td>\n",
       "      <td>...</td>\n",
       "      <td>...</td>\n",
       "      <td>...</td>\n",
       "    </tr>\n",
       "    <tr>\n",
       "      <th>17965138</th>\n",
       "      <td>17965138</td>\n",
       "      <td>0.54</td>\n",
       "      <td>0.00</td>\n",
       "      <td>0.42</td>\n",
       "      <td>0.04</td>\n",
       "    </tr>\n",
       "    <tr>\n",
       "      <th>17965139</th>\n",
       "      <td>17965139</td>\n",
       "      <td>0.44</td>\n",
       "      <td>0.00</td>\n",
       "      <td>0.56</td>\n",
       "      <td>0.00</td>\n",
       "    </tr>\n",
       "    <tr>\n",
       "      <th>17965140</th>\n",
       "      <td>17965140</td>\n",
       "      <td>0.58</td>\n",
       "      <td>0.00</td>\n",
       "      <td>0.40</td>\n",
       "      <td>0.02</td>\n",
       "    </tr>\n",
       "    <tr>\n",
       "      <th>17965141</th>\n",
       "      <td>17965141</td>\n",
       "      <td>0.46</td>\n",
       "      <td>0.00</td>\n",
       "      <td>0.52</td>\n",
       "      <td>0.02</td>\n",
       "    </tr>\n",
       "    <tr>\n",
       "      <th>17965142</th>\n",
       "      <td>17965142</td>\n",
       "      <td>0.50</td>\n",
       "      <td>0.00</td>\n",
       "      <td>0.48</td>\n",
       "      <td>0.02</td>\n",
       "    </tr>\n",
       "  </tbody>\n",
       "</table>\n",
       "<p>17965143 rows × 5 columns</p>\n",
       "</div>"
      ],
      "text/plain": [
       "                id     A     B     C     D\n",
       "0                0  0.80  0.02  0.04  0.14\n",
       "1                1  0.80  0.02  0.08  0.10\n",
       "2                2  0.88  0.00  0.06  0.06\n",
       "3                3  0.78  0.02  0.08  0.12\n",
       "4                4  0.94  0.00  0.02  0.04\n",
       "...            ...   ...   ...   ...   ...\n",
       "17965138  17965138  0.54  0.00  0.42  0.04\n",
       "17965139  17965139  0.44  0.00  0.56  0.00\n",
       "17965140  17965140  0.58  0.00  0.40  0.02\n",
       "17965141  17965141  0.46  0.00  0.52  0.02\n",
       "17965142  17965142  0.50  0.00  0.48  0.02\n",
       "\n",
       "[17965143 rows x 5 columns]"
      ]
     },
     "execution_count": 11,
     "metadata": {
      "tags": []
     },
     "output_type": "execute_result"
    }
   ],
   "source": [
    "submission_rf"
   ]
  },
  {
   "cell_type": "code",
   "execution_count": null,
   "metadata": {
    "id": "SPhlUCeOTHSC"
   },
   "outputs": [],
   "source": [
    "#create csv file of results\n",
    "submission_rf.to_csv('/content/submission_random_forest.csv', index=False)"
   ]
  },
  {
   "cell_type": "code",
   "execution_count": null,
   "metadata": {
    "id": "0zFMLFEjTh6V"
   },
   "outputs": [],
   "source": [
    "#copy results to drive\n",
    "!cp '/content/submission_random_forest.csv' '/content/drive/MyDrive/applied aic/case studies/rcaf/kaggle submissions'"
   ]
  },
  {
   "cell_type": "code",
   "execution_count": null,
   "metadata": {
    "colab": {
     "base_uri": "https://localhost:8080/"
    },
    "id": "IGUe1DqcUkqJ",
    "outputId": "34d890cd-af82-4403-b3d4-ba3b77e94b6e"
   },
   "outputs": [
    {
     "name": "stdout",
     "output_type": "stream",
     "text": [
      "Warning: Your Kaggle API key is readable by other users on this system! To fix this, you can run 'chmod 600 /content/kaggle.json'\n",
      "Warning: Looks like you're using an outdated API Version, please consider updating (server 1.5.12 / client 1.5.4)\n",
      "100% 458M/458M [00:09<00:00, 52.2MB/s]\n",
      "Successfully submitted to Reducing Commercial Aviation Fatalities"
     ]
    }
   ],
   "source": [
    "#submit results from notebook to kaggle.\n",
    "!kaggle competitions submit -c reducing-commercial-aviation-fatalities -f submission_random_forest.csv -m \"This is final submission file tested on actual test data. Random forest is a classifier used. this file contains id A B C D columns as described.\""
   ]
  },
  {
   "cell_type": "markdown",
   "metadata": {
    "id": "_zpKBzIiPwxD"
   },
   "source": [
    "**Random Forest kaggle score**<br>"
   ]
  },
  {
   "cell_type": "markdown",
   "metadata": {
    "id": "wVnoEHBIEwte"
   },
   "source": [
    "![submission_RF.png](data:image/png;base64,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)"
   ]
  },
  {
   "cell_type": "markdown",
   "metadata": {
    "id": "1QXqAPG2E08x"
   },
   "source": [
    "Private score - 1.26281<br>\n",
    "Public score - 1.29269"
   ]
  },
  {
   "cell_type": "markdown",
   "metadata": {
    "id": "KDXR-Uy_3S8Y"
   },
   "source": [
    "## **LGBM Classifier**"
   ]
  },
  {
   "cell_type": "markdown",
   "metadata": {
    "id": "XXGKWcc63b1_"
   },
   "source": [
    "**Randomized search on hyper parameters**"
   ]
  },
  {
   "cell_type": "code",
   "execution_count": null,
   "metadata": {
    "id": "N-Yby_Th4Nl6"
   },
   "outputs": [],
   "source": [
    "lgbm_clf = LGBMClassifier(class_weight='balanced')"
   ]
  },
  {
   "cell_type": "code",
   "execution_count": null,
   "metadata": {
    "colab": {
     "base_uri": "https://localhost:8080/"
    },
    "id": "tzEn2bbP4ZE9",
    "outputId": "ca3c8f97-dfdb-4c89-bc47-493dac2860ec"
   },
   "outputs": [
    {
     "name": "stdout",
     "output_type": "stream",
     "text": [
      "Fitting 3 folds for each of 10 candidates, totalling 30 fits\n",
      "[Parallel(n_jobs=-1)]: Using backend LokyBackend with 2 concurrent workers.\n",
      "[Parallel(n_jobs=-1)]: Done   1 tasks      | elapsed: 10.4min\n",
      "[Parallel(n_jobs=-1)]: Done   2 tasks      | elapsed: 10.5min\n",
      "[Parallel(n_jobs=-1)]: Done   3 tasks      | elapsed: 20.6min\n",
      "[Parallel(n_jobs=-1)]: Done   4 tasks      | elapsed: 20.8min\n",
      "[Parallel(n_jobs=-1)]: Done   5 tasks      | elapsed: 30.8min\n",
      "[Parallel(n_jobs=-1)]: Done   6 tasks      | elapsed: 31.1min\n",
      "[Parallel(n_jobs=-1)]: Done   7 tasks      | elapsed: 41.4min\n",
      "[Parallel(n_jobs=-1)]: Done   8 tasks      | elapsed: 41.6min\n",
      "[Parallel(n_jobs=-1)]: Done   9 tasks      | elapsed: 51.0min\n",
      "[Parallel(n_jobs=-1)]: Done  10 tasks      | elapsed: 51.7min\n",
      "[Parallel(n_jobs=-1)]: Done  11 tasks      | elapsed: 60.5min\n",
      "[Parallel(n_jobs=-1)]: Done  12 tasks      | elapsed: 60.9min\n",
      "[Parallel(n_jobs=-1)]: Done  13 tasks      | elapsed: 70.7min\n",
      "[Parallel(n_jobs=-1)]: Done  14 tasks      | elapsed: 70.9min\n",
      "[Parallel(n_jobs=-1)]: Done  15 tasks      | elapsed: 80.8min\n",
      "[Parallel(n_jobs=-1)]: Done  16 tasks      | elapsed: 80.9min\n",
      "[Parallel(n_jobs=-1)]: Done  17 tasks      | elapsed: 90.7min\n",
      "[Parallel(n_jobs=-1)]: Done  18 tasks      | elapsed: 91.0min\n",
      "[Parallel(n_jobs=-1)]: Done  19 tasks      | elapsed: 101.1min\n",
      "[Parallel(n_jobs=-1)]: Done  20 tasks      | elapsed: 101.7min\n",
      "[Parallel(n_jobs=-1)]: Done  21 tasks      | elapsed: 111.7min\n",
      "[Parallel(n_jobs=-1)]: Done  22 tasks      | elapsed: 111.8min\n",
      "[Parallel(n_jobs=-1)]: Done  23 tasks      | elapsed: 121.8min\n",
      "[Parallel(n_jobs=-1)]: Done  24 tasks      | elapsed: 121.9min\n",
      "[Parallel(n_jobs=-1)]: Done  25 tasks      | elapsed: 131.7min\n",
      "[Parallel(n_jobs=-1)]: Done  26 tasks      | elapsed: 132.0min\n",
      "[Parallel(n_jobs=-1)]: Done  27 tasks      | elapsed: 141.4min\n",
      "[Parallel(n_jobs=-1)]: Done  28 out of  30 | elapsed: 141.9min remaining: 10.1min\n",
      "[Parallel(n_jobs=-1)]: Done  30 out of  30 | elapsed: 151.9min remaining:    0.0s\n",
      "[Parallel(n_jobs=-1)]: Done  30 out of  30 | elapsed: 151.9min finished\n"
     ]
    },
    {
     "data": {
      "text/plain": [
       "RandomizedSearchCV(cv=3, error_score=nan,\n",
       "                   estimator=LGBMClassifier(boosting_type='gbdt',\n",
       "                                            class_weight='balanced',\n",
       "                                            colsample_bytree=1.0,\n",
       "                                            importance_type='split',\n",
       "                                            learning_rate=0.1, max_depth=-1,\n",
       "                                            min_child_samples=20,\n",
       "                                            min_child_weight=0.001,\n",
       "                                            min_split_gain=0.0,\n",
       "                                            n_estimators=100, n_jobs=-1,\n",
       "                                            num_leaves=31, objective=None,\n",
       "                                            random_state=None, reg_alpha=0.0,\n",
       "                                            reg_lambda=0....\n",
       "                                            subsample=1.0,\n",
       "                                            subsample_for_bin=200000,\n",
       "                                            subsample_freq=0),\n",
       "                   iid='deprecated', n_iter=10, n_jobs=-1,\n",
       "                   param_distributions={'learning_rate': [0.0001, 0.001, 0.01,\n",
       "                                                          0.1],\n",
       "                                        'max_depth': [300],\n",
       "                                        'min_data_in_leaf': [100, 400, 700],\n",
       "                                        'n_estimators': [100],\n",
       "                                        'num_leaves': [60, 70, 80]},\n",
       "                   pre_dispatch='2*n_jobs', random_state=None, refit=True,\n",
       "                   return_train_score=False, scoring=None, verbose=100)"
      ]
     },
     "execution_count": 8,
     "metadata": {
      "tags": []
     },
     "output_type": "execute_result"
    }
   ],
   "source": [
    "#https://lightgbm.readthedocs.io/en/latest/Parameters-Tuning.html\n",
    "lgbm_params = {'learning_rate':[0.0001, 0.001, 0.01, 0.1], \n",
    "               'n_estimators':[100],\n",
    "               'max_depth':[300], 'num_leaves':list(range(60, 90, 10)),\n",
    "               'min_data_in_leaf': list(range(100, 1000, 300))}\n",
    "\n",
    "lgbm_rscv = RandomizedSearchCV(lgbm_clf, param_distributions=lgbm_params, cv=3, \n",
    "                                n_jobs=-1, verbose=100)\n",
    "lgbm_rscv.fit(X_train, y_train)"
   ]
  },
  {
   "cell_type": "code",
   "execution_count": null,
   "metadata": {
    "colab": {
     "base_uri": "https://localhost:8080/"
    },
    "id": "V1baSOXwdeN7",
    "outputId": "91e2bd9f-c341-4d3f-99c9-089686fb669c"
   },
   "outputs": [
    {
     "name": "stdout",
     "output_type": "stream",
     "text": [
      "best parameters: {'num_leaves': 80, 'n_estimators': 100, 'min_data_in_leaf': 100, 'max_depth': 300, 'learning_rate': 0.01}\n"
     ]
    }
   ],
   "source": [
    "print('best parameters:',lgbm_rscv.best_params_)"
   ]
  },
  {
   "cell_type": "markdown",
   "metadata": {
    "id": "kspFqL8y3jyb"
   },
   "source": [
    "**Train model with best parameters**"
   ]
  },
  {
   "cell_type": "code",
   "execution_count": null,
   "metadata": {
    "colab": {
     "base_uri": "https://localhost:8080/"
    },
    "id": "wIDnNAcEp7mI",
    "outputId": "be38c97c-a1b1-49a0-ea4f-68f0857504a0"
   },
   "outputs": [
    {
     "data": {
      "text/plain": [
       "LGBMClassifier(boosting_type='gbdt', class_weight=None, colsample_bytree=1.0,\n",
       "               importance_type='split', learning_rate=0.01, max_depth=300,\n",
       "               min_child_samples=20, min_child_weight=0.001,\n",
       "               min_data_in_leaf=100, min_split_gain=0.0, n_estimators=100,\n",
       "               n_jobs=-1, num_leaves=80, objective=None, random_state=None,\n",
       "               reg_alpha=0.0, reg_lambda=0.0, silent=True, subsample=1.0,\n",
       "               subsample_for_bin=200000, subsample_freq=0)"
      ]
     },
     "execution_count": 11,
     "metadata": {
      "tags": []
     },
     "output_type": "execute_result"
    }
   ],
   "source": [
    "#train with best parameters\n",
    "lgbm_model = LGBMClassifier(num_leaves=80, n_estimators=100, \n",
    "                            min_data_in_leaf=100, max_depth= 300, \n",
    "                            learning_rate=0.01)\n",
    "lgbm_model.fit(X_train, y_train)"
   ]
  },
  {
   "cell_type": "markdown",
   "metadata": {
    "id": "DmwRCDosZ_sD"
   },
   "source": [
    "**Store and load model**"
   ]
  },
  {
   "cell_type": "code",
   "execution_count": null,
   "metadata": {
    "colab": {
     "base_uri": "https://localhost:8080/"
    },
    "id": "jQdg9jOh5sU-",
    "outputId": "055967fd-b0ac-4975-c80f-34bfcc5dc03a"
   },
   "outputs": [
    {
     "data": {
      "text/plain": [
       "['/content/lgbm_model.pkl']"
      ]
     },
     "execution_count": 13,
     "metadata": {
      "tags": []
     },
     "output_type": "execute_result"
    }
   ],
   "source": [
    "#save model\n",
    "joblib.dump(lgbm_model,'/content/lgbm_model.pkl')"
   ]
  },
  {
   "cell_type": "code",
   "execution_count": null,
   "metadata": {
    "id": "z4z3jQB15sVO"
   },
   "outputs": [],
   "source": [
    "#copy to google drive\n",
    "!cp '/content/lgbm_model.pkl' '/content/drive/MyDrive/applied aic/case studies/rcaf/models/'"
   ]
  },
  {
   "cell_type": "code",
   "execution_count": null,
   "metadata": {
    "id": "z4B505RD5sVP"
   },
   "outputs": [],
   "source": [
    "#load saved model\n",
    "lgbm_model_final = joblib.load('/content/drive/MyDrive/applied aic/case studies/rcaf/models/lgbm_model.pkl')"
   ]
  },
  {
   "cell_type": "markdown",
   "metadata": {
    "id": "ca0xalX9aDn5"
   },
   "source": [
    "**Prediction on cross validation data**"
   ]
  },
  {
   "cell_type": "code",
   "execution_count": null,
   "metadata": {
    "colab": {
     "base_uri": "https://localhost:8080/"
    },
    "id": "QoiTfmz96DaU",
    "outputId": "84617e71-837d-4907-ffaf-bb3d307c35a5"
   },
   "outputs": [
    {
     "name": "stdout",
     "output_type": "stream",
     "text": [
      "0.7091769368624316\n"
     ]
    }
   ],
   "source": [
    "#get probabilities of cv data and log loss. \n",
    "lgbm_cv_predictions = lgbm_model_final.predict_proba(X_cv)\n",
    "print(log_loss(y_cv,lgbm_cv_predictions))"
   ]
  },
  {
   "cell_type": "markdown",
   "metadata": {
    "id": "TqJSQRmkjSeo"
   },
   "source": [
    "on cross validation data logloss is 0.70 for LightGBM Classifier."
   ]
  },
  {
   "cell_type": "markdown",
   "metadata": {
    "id": "UuMoOG9tyPgn"
   },
   "source": []
  },
  {
   "cell_type": "markdown",
   "metadata": {
    "id": "Ya-cDs5c6DaX"
   },
   "source": [
    "**Prediction on actual test data with LGBM classifier**"
   ]
  },
  {
   "cell_type": "code",
   "execution_count": null,
   "metadata": {
    "colab": {
     "base_uri": "https://localhost:8080/"
    },
    "id": "WqeOLaUT6DaY",
    "outputId": "4a0c153a-c4e8-4716-ffed-6980a5c97875"
   },
   "outputs": [
    {
     "name": "stdout",
     "output_type": "stream",
     "text": [
      "[[0.77017342 0.0165529  0.1604437  0.05282998]\n",
      " [0.76815108 0.01650943 0.16002241 0.05531708]\n",
      " [0.77017342 0.0165529  0.1604437  0.05282998]\n",
      " ...\n",
      " [0.5156056  0.01495488 0.43832688 0.03111264]\n",
      " [0.5156056  0.01495488 0.43832688 0.03111264]\n",
      " [0.5156056  0.01495488 0.43832688 0.03111264]]\n"
     ]
    }
   ],
   "source": [
    "#get probabilities of test data\n",
    "lgbm_test_predictions = lgbm_model_final.predict_proba(test_LTB)\n",
    "print(lgbm_test_predictions)"
   ]
  },
  {
   "cell_type": "markdown",
   "metadata": {
    "id": "Gkd4KaVI6DaZ"
   },
   "source": [
    "**Kaggle submission**"
   ]
  },
  {
   "cell_type": "code",
   "execution_count": null,
   "metadata": {
    "id": "p_APdrD66Daa"
   },
   "outputs": [],
   "source": [
    "#create described submission file by kaggle.\n",
    "#file must have id, A, B, C, D columns\n",
    "submission_lgbm = pd.DataFrame(np.concatenate((np.arange(len(test_LTB))[:, np.newaxis], lgbm_test_predictions), \n",
    "                                         axis=1), columns=['id', 'A', 'B', 'C', 'D'],)\n",
    "submission_lgbm['id'] = submission_lgbm['id'].astype(int)"
   ]
  },
  {
   "cell_type": "code",
   "execution_count": null,
   "metadata": {
    "colab": {
     "base_uri": "https://localhost:8080/",
     "height": 419
    },
    "id": "_2DhUzxp6Dab",
    "outputId": "6a9e4925-35d6-4b6e-e913-5d25104fe6cd"
   },
   "outputs": [
    {
     "data": {
      "text/html": [
       "<div>\n",
       "<style scoped>\n",
       "    .dataframe tbody tr th:only-of-type {\n",
       "        vertical-align: middle;\n",
       "    }\n",
       "\n",
       "    .dataframe tbody tr th {\n",
       "        vertical-align: top;\n",
       "    }\n",
       "\n",
       "    .dataframe thead th {\n",
       "        text-align: right;\n",
       "    }\n",
       "</style>\n",
       "<table border=\"1\" class=\"dataframe\">\n",
       "  <thead>\n",
       "    <tr style=\"text-align: right;\">\n",
       "      <th></th>\n",
       "      <th>id</th>\n",
       "      <th>A</th>\n",
       "      <th>B</th>\n",
       "      <th>C</th>\n",
       "      <th>D</th>\n",
       "    </tr>\n",
       "  </thead>\n",
       "  <tbody>\n",
       "    <tr>\n",
       "      <th>0</th>\n",
       "      <td>0</td>\n",
       "      <td>0.770173</td>\n",
       "      <td>0.016553</td>\n",
       "      <td>0.160444</td>\n",
       "      <td>0.052830</td>\n",
       "    </tr>\n",
       "    <tr>\n",
       "      <th>1</th>\n",
       "      <td>1</td>\n",
       "      <td>0.768151</td>\n",
       "      <td>0.016509</td>\n",
       "      <td>0.160022</td>\n",
       "      <td>0.055317</td>\n",
       "    </tr>\n",
       "    <tr>\n",
       "      <th>2</th>\n",
       "      <td>2</td>\n",
       "      <td>0.770173</td>\n",
       "      <td>0.016553</td>\n",
       "      <td>0.160444</td>\n",
       "      <td>0.052830</td>\n",
       "    </tr>\n",
       "    <tr>\n",
       "      <th>3</th>\n",
       "      <td>3</td>\n",
       "      <td>0.768151</td>\n",
       "      <td>0.016509</td>\n",
       "      <td>0.160022</td>\n",
       "      <td>0.055317</td>\n",
       "    </tr>\n",
       "    <tr>\n",
       "      <th>4</th>\n",
       "      <td>4</td>\n",
       "      <td>0.770173</td>\n",
       "      <td>0.016553</td>\n",
       "      <td>0.160444</td>\n",
       "      <td>0.052830</td>\n",
       "    </tr>\n",
       "    <tr>\n",
       "      <th>...</th>\n",
       "      <td>...</td>\n",
       "      <td>...</td>\n",
       "      <td>...</td>\n",
       "      <td>...</td>\n",
       "      <td>...</td>\n",
       "    </tr>\n",
       "    <tr>\n",
       "      <th>17965138</th>\n",
       "      <td>17965138</td>\n",
       "      <td>0.515606</td>\n",
       "      <td>0.014955</td>\n",
       "      <td>0.438327</td>\n",
       "      <td>0.031113</td>\n",
       "    </tr>\n",
       "    <tr>\n",
       "      <th>17965139</th>\n",
       "      <td>17965139</td>\n",
       "      <td>0.515606</td>\n",
       "      <td>0.014955</td>\n",
       "      <td>0.438327</td>\n",
       "      <td>0.031113</td>\n",
       "    </tr>\n",
       "    <tr>\n",
       "      <th>17965140</th>\n",
       "      <td>17965140</td>\n",
       "      <td>0.515606</td>\n",
       "      <td>0.014955</td>\n",
       "      <td>0.438327</td>\n",
       "      <td>0.031113</td>\n",
       "    </tr>\n",
       "    <tr>\n",
       "      <th>17965141</th>\n",
       "      <td>17965141</td>\n",
       "      <td>0.515606</td>\n",
       "      <td>0.014955</td>\n",
       "      <td>0.438327</td>\n",
       "      <td>0.031113</td>\n",
       "    </tr>\n",
       "    <tr>\n",
       "      <th>17965142</th>\n",
       "      <td>17965142</td>\n",
       "      <td>0.515606</td>\n",
       "      <td>0.014955</td>\n",
       "      <td>0.438327</td>\n",
       "      <td>0.031113</td>\n",
       "    </tr>\n",
       "  </tbody>\n",
       "</table>\n",
       "<p>17965143 rows × 5 columns</p>\n",
       "</div>"
      ],
      "text/plain": [
       "                id         A         B         C         D\n",
       "0                0  0.770173  0.016553  0.160444  0.052830\n",
       "1                1  0.768151  0.016509  0.160022  0.055317\n",
       "2                2  0.770173  0.016553  0.160444  0.052830\n",
       "3                3  0.768151  0.016509  0.160022  0.055317\n",
       "4                4  0.770173  0.016553  0.160444  0.052830\n",
       "...            ...       ...       ...       ...       ...\n",
       "17965138  17965138  0.515606  0.014955  0.438327  0.031113\n",
       "17965139  17965139  0.515606  0.014955  0.438327  0.031113\n",
       "17965140  17965140  0.515606  0.014955  0.438327  0.031113\n",
       "17965141  17965141  0.515606  0.014955  0.438327  0.031113\n",
       "17965142  17965142  0.515606  0.014955  0.438327  0.031113\n",
       "\n",
       "[17965143 rows x 5 columns]"
      ]
     },
     "execution_count": 8,
     "metadata": {
      "tags": []
     },
     "output_type": "execute_result"
    }
   ],
   "source": [
    "submission_lgbm"
   ]
  },
  {
   "cell_type": "code",
   "execution_count": null,
   "metadata": {
    "id": "L7DDXd426Dac"
   },
   "outputs": [],
   "source": [
    "#create csv file of results\n",
    "submission_lgbm.to_csv('/content/submission_lgbm.csv', index=False)"
   ]
  },
  {
   "cell_type": "code",
   "execution_count": null,
   "metadata": {
    "id": "aw0f7tA36Daf"
   },
   "outputs": [],
   "source": [
    "#copy results to drive\n",
    "!cp '/content/submission_lgbm.csv' '/content/drive/MyDrive/applied aic/case studies/rcaf/kaggle submissions'"
   ]
  },
  {
   "cell_type": "code",
   "execution_count": null,
   "metadata": {
    "colab": {
     "base_uri": "https://localhost:8080/"
    },
    "id": "W5-foBq96Dag",
    "outputId": "fcea908d-73d7-43dd-c63e-bace2deabcb6"
   },
   "outputs": [
    {
     "name": "stdout",
     "output_type": "stream",
     "text": [
      "Warning: Your Kaggle API key is readable by other users on this system! To fix this, you can run 'chmod 600 /content/kaggle.json'\n",
      "Warning: Looks like you're using an outdated API Version, please consider updating (server 1.5.12 / client 1.5.4)\n",
      "100% 1.47G/1.47G [00:33<00:00, 47.7MB/s]\n",
      "Successfully submitted to Reducing Commercial Aviation Fatalities"
     ]
    }
   ],
   "source": [
    "#submit results from notebook to kaggle.\n",
    "!kaggle competitions submit -c reducing-commercial-aviation-fatalities -f submission_lgbm.csv -m \"This is final submission file tested on actual test data. LGBM is a classifier used. this file contains id A B C D columns as described.\""
   ]
  },
  {
   "cell_type": "markdown",
   "metadata": {
    "id": "4EhreiPvPqxm"
   },
   "source": [
    "**LightGBM kaggle score**<br>"
   ]
  },
  {
   "cell_type": "markdown",
   "metadata": {
    "id": "a3qPebD5FCAg"
   },
   "source": [
    "![submission_LGBM.png](data:image/png;base64,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)"
   ]
  },
  {
   "cell_type": "markdown",
   "metadata": {
    "id": "HcLOCcI1FHNw"
   },
   "source": [
    "Private score - 0.70500<br>\n",
    "Public score - 0.68440"
   ]
  },
  {
   "cell_type": "markdown",
   "metadata": {
    "id": "r2oo_2X1MqX4"
   },
   "source": [
    "## **AdaBoost Classifier**<br>"
   ]
  },
  {
   "cell_type": "markdown",
   "metadata": {
    "id": "Havnczl0MqYG"
   },
   "source": [
    "**Randomized search on hyper parameters**"
   ]
  },
  {
   "cell_type": "code",
   "execution_count": null,
   "metadata": {
    "id": "RHLUvgUPMqYH"
   },
   "outputs": [],
   "source": [
    "dt_clf = DecisionTreeClassifier(criterion='gini', max_features='auto',\n",
    "                                class_weight='balanced', random_state=42)\n",
    "adb_clf = AdaBoostClassifier(base_estimator=dt_clf, n_estimators=10)"
   ]
  },
  {
   "cell_type": "code",
   "execution_count": null,
   "metadata": {
    "colab": {
     "base_uri": "https://localhost:8080/"
    },
    "id": "M7X1OeU1MqYH",
    "outputId": "98189d0e-8416-4cb0-e353-f2c1f23dbb03"
   },
   "outputs": [
    {
     "name": "stdout",
     "output_type": "stream",
     "text": [
      "Fitting 2 folds for each of 6 candidates, totalling 12 fits\n",
      "[Parallel(n_jobs=-1)]: Using backend LokyBackend with 2 concurrent workers.\n",
      "[Parallel(n_jobs=-1)]: Done   1 tasks      | elapsed: 10.8min\n",
      "[Parallel(n_jobs=-1)]: Done   2 tasks      | elapsed: 11.1min\n",
      "[Parallel(n_jobs=-1)]: Done   3 tasks      | elapsed: 22.6min\n",
      "[Parallel(n_jobs=-1)]: Done   4 tasks      | elapsed: 23.3min\n",
      "[Parallel(n_jobs=-1)]: Done   5 tasks      | elapsed: 33.2min\n",
      "[Parallel(n_jobs=-1)]: Done   6 tasks      | elapsed: 33.9min\n",
      "[Parallel(n_jobs=-1)]: Done   7 tasks      | elapsed: 44.6min\n",
      "[Parallel(n_jobs=-1)]: Done   8 tasks      | elapsed: 45.8min\n",
      "[Parallel(n_jobs=-1)]: Done   9 tasks      | elapsed: 54.9min\n",
      "[Parallel(n_jobs=-1)]: Done  10 out of  12 | elapsed: 56.3min remaining: 11.3min\n",
      "[Parallel(n_jobs=-1)]: Done  12 out of  12 | elapsed: 67.3min remaining:    0.0s\n",
      "[Parallel(n_jobs=-1)]: Done  12 out of  12 | elapsed: 67.3min finished\n"
     ]
    },
    {
     "data": {
      "text/plain": [
       "RandomizedSearchCV(cv=2, error_score=nan,\n",
       "                   estimator=AdaBoostClassifier(algorithm='SAMME.R',\n",
       "                                                base_estimator=DecisionTreeClassifier(ccp_alpha=0.0,\n",
       "                                                                                      class_weight='balanced',\n",
       "                                                                                      criterion='gini',\n",
       "                                                                                      max_depth=None,\n",
       "                                                                                      max_features='auto',\n",
       "                                                                                      max_leaf_nodes=None,\n",
       "                                                                                      min_impurity_decrease=0.0,\n",
       "                                                                                      min_impurity_split=None,\n",
       "                                                                                      min_samples_leaf=1,\n",
       "                                                                                      min_samples_split=2,\n",
       "                                                                                      min_weight_fraction_leaf...\n",
       "                                                                                      presort='deprecated',\n",
       "                                                                                      random_state=42,\n",
       "                                                                                      splitter='best'),\n",
       "                                                learning_rate=1.0,\n",
       "                                                n_estimators=10,\n",
       "                                                random_state=None),\n",
       "                   iid='deprecated', n_iter=10, n_jobs=-1,\n",
       "                   param_distributions={'base_estimator__max_depth': [100, 150,\n",
       "                                                                      300],\n",
       "                                        'base_estimator__min_samples_leaf': [5,\n",
       "                                                                             10]},\n",
       "                   pre_dispatch='2*n_jobs', random_state=None, refit=True,\n",
       "                   return_train_score=False, scoring=None, verbose=100)"
      ]
     },
     "execution_count": 7,
     "metadata": {
      "tags": []
     },
     "output_type": "execute_result"
    }
   ],
   "source": [
    "#https://lightgbm.readthedocs.io/en/latest/Parameters-Tuning.html\n",
    "adb_params = {\"base_estimator__max_depth\":[100, 150, 300], \n",
    "              \"base_estimator__min_samples_leaf\":[5, 10]}\n",
    "\n",
    "adb_rscv = RandomizedSearchCV(adb_clf, param_distributions=adb_params, cv=2, \n",
    "                                n_jobs=-1, verbose=100)\n",
    "adb_rscv.fit(X_train, y_train)"
   ]
  },
  {
   "cell_type": "code",
   "execution_count": null,
   "metadata": {
    "colab": {
     "base_uri": "https://localhost:8080/"
    },
    "id": "99VbPv66MqYI",
    "outputId": "54fb509b-86e4-4b68-80c3-e763450fa02d"
   },
   "outputs": [
    {
     "name": "stdout",
     "output_type": "stream",
     "text": [
      "best parameters: {'base_estimator__min_samples_leaf': 10, 'base_estimator__max_depth': 100}\n"
     ]
    }
   ],
   "source": [
    "print('best parameters:',adb_rscv.best_params_)"
   ]
  },
  {
   "cell_type": "markdown",
   "metadata": {
    "id": "gghw62rGMqYJ"
   },
   "source": [
    "**Train model with best parameters**"
   ]
  },
  {
   "cell_type": "code",
   "execution_count": null,
   "metadata": {
    "colab": {
     "base_uri": "https://localhost:8080/"
    },
    "id": "1gp8UukTMqYJ",
    "outputId": "0f51483d-455d-4869-f4ed-9827f00ae7c9"
   },
   "outputs": [
    {
     "data": {
      "text/plain": [
       "AdaBoostClassifier(algorithm='SAMME.R',\n",
       "                   base_estimator=DecisionTreeClassifier(ccp_alpha=0.0,\n",
       "                                                         class_weight=None,\n",
       "                                                         criterion='gini',\n",
       "                                                         max_depth=100,\n",
       "                                                         max_features=None,\n",
       "                                                         max_leaf_nodes=None,\n",
       "                                                         min_impurity_decrease=0.0,\n",
       "                                                         min_impurity_split=None,\n",
       "                                                         min_samples_leaf=10,\n",
       "                                                         min_samples_split=2,\n",
       "                                                         min_weight_fraction_leaf=0.0,\n",
       "                                                         presort='deprecated',\n",
       "                                                         random_state=None,\n",
       "                                                         splitter='best'),\n",
       "                   learning_rate=1.0, n_estimators=10, random_state=None)"
      ]
     },
     "execution_count": 5,
     "metadata": {
      "tags": []
     },
     "output_type": "execute_result"
    }
   ],
   "source": [
    "#train with best parameters\n",
    "dt_model = DecisionTreeClassifier(max_depth=100, min_samples_leaf=10)\n",
    "adb_model = AdaBoostClassifier(base_estimator=dt_model, n_estimators=10)\n",
    "adb_model.fit(X_train, y_train)"
   ]
  },
  {
   "cell_type": "markdown",
   "metadata": {
    "id": "apqqZwFSMqYK"
   },
   "source": [
    "**Store and load model**"
   ]
  },
  {
   "cell_type": "code",
   "execution_count": null,
   "metadata": {
    "colab": {
     "base_uri": "https://localhost:8080/"
    },
    "id": "VuwhNcmOMqYK",
    "outputId": "266e5068-0386-4473-f8dc-1f056d3d904b"
   },
   "outputs": [
    {
     "data": {
      "text/plain": [
       "['/content/adb_model1.pkl']"
      ]
     },
     "execution_count": 6,
     "metadata": {
      "tags": []
     },
     "output_type": "execute_result"
    }
   ],
   "source": [
    "#save model\n",
    "joblib.dump(adb_model,'/content/adb_model1.pkl')"
   ]
  },
  {
   "cell_type": "code",
   "execution_count": null,
   "metadata": {
    "id": "v0JjKgTgMqYK"
   },
   "outputs": [],
   "source": [
    "#copy to google drive\n",
    "!cp '/content/adb_model1.pkl' '/content/drive/MyDrive/applied aic/case studies/rcaf/models/'"
   ]
  },
  {
   "cell_type": "code",
   "execution_count": null,
   "metadata": {
    "id": "6AGAT2hCMqYL"
   },
   "outputs": [],
   "source": [
    "#load saved model\n",
    "adb_model_final = joblib.load('/content/drive/MyDrive/applied aic/case studies/rcaf/models/adb_model1.pkl')"
   ]
  },
  {
   "cell_type": "markdown",
   "metadata": {
    "id": "lZnEDn4bMqYL"
   },
   "source": [
    "**Prediction on cross validation data**"
   ]
  },
  {
   "cell_type": "code",
   "execution_count": null,
   "metadata": {
    "colab": {
     "base_uri": "https://localhost:8080/"
    },
    "id": "GeLiaXU_MqYL",
    "outputId": "5804ea20-fa32-4e16-fbc9-89f8bd40b203"
   },
   "outputs": [
    {
     "name": "stdout",
     "output_type": "stream",
     "text": [
      "0.833172010640539\n"
     ]
    }
   ],
   "source": [
    "#get probabilities of cv data and log loss. \n",
    "adb_cv_predictions = adb_model_final.predict_proba(X_cv)\n",
    "print(log_loss(y_cv,adb_cv_predictions))"
   ]
  },
  {
   "cell_type": "markdown",
   "metadata": {
    "id": "AgTvj6y8MqYM"
   },
   "source": [
    "**Prediction on actual test data with AdaBoost classifier**"
   ]
  },
  {
   "cell_type": "code",
   "execution_count": null,
   "metadata": {
    "colab": {
     "base_uri": "https://localhost:8080/"
    },
    "id": "FlKE9CUuMqYM",
    "outputId": "997b8224-607f-4c2e-a463-8d2db1ff0f96"
   },
   "outputs": [
    {
     "name": "stdout",
     "output_type": "stream",
     "text": [
      "[[9.99999998e-01 8.52534446e-16 1.75499492e-09 6.44007858e-13]\n",
      " [9.99997179e-01 1.94306071e-06 8.74353495e-07 3.79494546e-09]\n",
      " [9.99999974e-01 1.57946523e-14 2.63417157e-08 1.08440049e-10]\n",
      " ...\n",
      " [2.01662801e-03 4.84982383e-14 9.97983372e-01 1.47776896e-10]\n",
      " [6.70369703e-01 2.23124371e-12 3.29630295e-01 2.23620954e-09]\n",
      " [1.68386661e-02 6.44728543e-13 9.83161334e-01 4.65217397e-11]]\n"
     ]
    }
   ],
   "source": [
    "#get probabilities of test data\n",
    "adb_test_predictions = adb_model_final.predict_proba(test_LTB)\n",
    "print(adb_test_predictions)"
   ]
  },
  {
   "cell_type": "markdown",
   "metadata": {
    "id": "8_YKb9mdMqYN"
   },
   "source": [
    "**Kaggle submission**"
   ]
  },
  {
   "cell_type": "code",
   "execution_count": null,
   "metadata": {
    "id": "77FTM2E7MqYN"
   },
   "outputs": [],
   "source": [
    "#create described submission file by kaggle.\n",
    "#file must have id, A, B, C, D columns\n",
    "submission_adb = pd.DataFrame(np.concatenate((np.arange(len(test_LTB))[:, np.newaxis], adb_test_predictions), \n",
    "                                         axis=1), columns=['id', 'A', 'B', 'C', 'D'],)\n",
    "submission_adb['id'] = submission_adb['id'].astype(int)"
   ]
  },
  {
   "cell_type": "code",
   "execution_count": null,
   "metadata": {
    "colab": {
     "base_uri": "https://localhost:8080/",
     "height": 419
    },
    "id": "t6-UqkgRMqYN",
    "outputId": "9454c363-45dd-47b8-9626-0b4195244c9c"
   },
   "outputs": [
    {
     "data": {
      "text/html": [
       "<div>\n",
       "<style scoped>\n",
       "    .dataframe tbody tr th:only-of-type {\n",
       "        vertical-align: middle;\n",
       "    }\n",
       "\n",
       "    .dataframe tbody tr th {\n",
       "        vertical-align: top;\n",
       "    }\n",
       "\n",
       "    .dataframe thead th {\n",
       "        text-align: right;\n",
       "    }\n",
       "</style>\n",
       "<table border=\"1\" class=\"dataframe\">\n",
       "  <thead>\n",
       "    <tr style=\"text-align: right;\">\n",
       "      <th></th>\n",
       "      <th>id</th>\n",
       "      <th>A</th>\n",
       "      <th>B</th>\n",
       "      <th>C</th>\n",
       "      <th>D</th>\n",
       "    </tr>\n",
       "  </thead>\n",
       "  <tbody>\n",
       "    <tr>\n",
       "      <th>0</th>\n",
       "      <td>0</td>\n",
       "      <td>1.000000</td>\n",
       "      <td>8.525344e-16</td>\n",
       "      <td>1.754995e-09</td>\n",
       "      <td>6.440079e-13</td>\n",
       "    </tr>\n",
       "    <tr>\n",
       "      <th>1</th>\n",
       "      <td>1</td>\n",
       "      <td>0.999997</td>\n",
       "      <td>1.943061e-06</td>\n",
       "      <td>8.743535e-07</td>\n",
       "      <td>3.794945e-09</td>\n",
       "    </tr>\n",
       "    <tr>\n",
       "      <th>2</th>\n",
       "      <td>2</td>\n",
       "      <td>1.000000</td>\n",
       "      <td>1.579465e-14</td>\n",
       "      <td>2.634172e-08</td>\n",
       "      <td>1.084400e-10</td>\n",
       "    </tr>\n",
       "    <tr>\n",
       "      <th>3</th>\n",
       "      <td>3</td>\n",
       "      <td>0.999891</td>\n",
       "      <td>7.080565e-10</td>\n",
       "      <td>1.088465e-04</td>\n",
       "      <td>1.435678e-08</td>\n",
       "    </tr>\n",
       "    <tr>\n",
       "      <th>4</th>\n",
       "      <td>4</td>\n",
       "      <td>1.000000</td>\n",
       "      <td>5.864654e-16</td>\n",
       "      <td>3.155414e-11</td>\n",
       "      <td>4.102717e-09</td>\n",
       "    </tr>\n",
       "    <tr>\n",
       "      <th>...</th>\n",
       "      <td>...</td>\n",
       "      <td>...</td>\n",
       "      <td>...</td>\n",
       "      <td>...</td>\n",
       "      <td>...</td>\n",
       "    </tr>\n",
       "    <tr>\n",
       "      <th>17965138</th>\n",
       "      <td>17965138</td>\n",
       "      <td>0.001159</td>\n",
       "      <td>2.624089e-14</td>\n",
       "      <td>9.988405e-01</td>\n",
       "      <td>9.013957e-13</td>\n",
       "    </tr>\n",
       "    <tr>\n",
       "      <th>17965139</th>\n",
       "      <td>17965139</td>\n",
       "      <td>0.929505</td>\n",
       "      <td>2.436323e-12</td>\n",
       "      <td>7.049479e-02</td>\n",
       "      <td>8.877369e-11</td>\n",
       "    </tr>\n",
       "    <tr>\n",
       "      <th>17965140</th>\n",
       "      <td>17965140</td>\n",
       "      <td>0.002017</td>\n",
       "      <td>4.849824e-14</td>\n",
       "      <td>9.979834e-01</td>\n",
       "      <td>1.477769e-10</td>\n",
       "    </tr>\n",
       "    <tr>\n",
       "      <th>17965141</th>\n",
       "      <td>17965141</td>\n",
       "      <td>0.670370</td>\n",
       "      <td>2.231244e-12</td>\n",
       "      <td>3.296303e-01</td>\n",
       "      <td>2.236210e-09</td>\n",
       "    </tr>\n",
       "    <tr>\n",
       "      <th>17965142</th>\n",
       "      <td>17965142</td>\n",
       "      <td>0.016839</td>\n",
       "      <td>6.447285e-13</td>\n",
       "      <td>9.831613e-01</td>\n",
       "      <td>4.652174e-11</td>\n",
       "    </tr>\n",
       "  </tbody>\n",
       "</table>\n",
       "<p>17965143 rows × 5 columns</p>\n",
       "</div>"
      ],
      "text/plain": [
       "                id         A             B             C             D\n",
       "0                0  1.000000  8.525344e-16  1.754995e-09  6.440079e-13\n",
       "1                1  0.999997  1.943061e-06  8.743535e-07  3.794945e-09\n",
       "2                2  1.000000  1.579465e-14  2.634172e-08  1.084400e-10\n",
       "3                3  0.999891  7.080565e-10  1.088465e-04  1.435678e-08\n",
       "4                4  1.000000  5.864654e-16  3.155414e-11  4.102717e-09\n",
       "...            ...       ...           ...           ...           ...\n",
       "17965138  17965138  0.001159  2.624089e-14  9.988405e-01  9.013957e-13\n",
       "17965139  17965139  0.929505  2.436323e-12  7.049479e-02  8.877369e-11\n",
       "17965140  17965140  0.002017  4.849824e-14  9.979834e-01  1.477769e-10\n",
       "17965141  17965141  0.670370  2.231244e-12  3.296303e-01  2.236210e-09\n",
       "17965142  17965142  0.016839  6.447285e-13  9.831613e-01  4.652174e-11\n",
       "\n",
       "[17965143 rows x 5 columns]"
      ]
     },
     "execution_count": 6,
     "metadata": {
      "tags": []
     },
     "output_type": "execute_result"
    }
   ],
   "source": [
    "submission_adb"
   ]
  },
  {
   "cell_type": "code",
   "execution_count": null,
   "metadata": {
    "id": "fbxiNecoMqYO"
   },
   "outputs": [],
   "source": [
    "#create csv file of results\n",
    "submission_adb.to_csv('/content/submission_adb1.csv', index=False)"
   ]
  },
  {
   "cell_type": "code",
   "execution_count": null,
   "metadata": {
    "id": "BamRRzH4MqYP"
   },
   "outputs": [],
   "source": [
    "#copy results to drive\n",
    "!cp '/content/submission_adb1.csv' '/content/drive/MyDrive/applied aic/case studies/rcaf/kaggle submissions'"
   ]
  },
  {
   "cell_type": "code",
   "execution_count": null,
   "metadata": {
    "colab": {
     "base_uri": "https://localhost:8080/"
    },
    "id": "FMKvRu20MqYP",
    "outputId": "6b39f08d-a47a-4338-a4f5-5a4dcea5a463"
   },
   "outputs": [
    {
     "name": "stdout",
     "output_type": "stream",
     "text": [
      "Warning: Your Kaggle API key is readable by other users on this system! To fix this, you can run 'chmod 600 /content/kaggle.json'\n",
      "Warning: Looks like you're using an outdated API Version, please consider updating (server 1.5.12 / client 1.5.4)\n",
      "100% 1.56G/1.56G [00:31<00:00, 53.5MB/s]\n",
      "Successfully submitted to Reducing Commercial Aviation Fatalities"
     ]
    }
   ],
   "source": [
    "#submit results from notebook to kaggle.\n",
    "!kaggle competitions submit -c reducing-commercial-aviation-fatalities -f submission_adb1.csv -m \"This is final submission file tested on actual test data. AdaBoost is a classifier used. this file contains id A B C D columns as described.\""
   ]
  },
  {
   "cell_type": "markdown",
   "metadata": {
    "id": "01vi4AlbPlFx"
   },
   "source": [
    "**Adaboost classifier kaggle score**<br>"
   ]
  },
  {
   "cell_type": "markdown",
   "metadata": {
    "id": "LifGG0p4FQ_O"
   },
   "source": [
    "![submission_adaboost.png](data:image/png;base64,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)"
   ]
  },
  {
   "cell_type": "markdown",
   "metadata": {
    "id": "ymn-6SqFFYNE"
   },
   "source": [
    "Private score - 2.01380<br>\n",
    "Public score - 1.33806"
   ]
  },
  {
   "cell_type": "markdown",
   "metadata": {
    "id": "ifN5Gsow7x-C"
   },
   "source": [
    "## **MLP**<br>"
   ]
  },
  {
   "cell_type": "code",
   "execution_count": null,
   "metadata": {
    "colab": {
     "base_uri": "https://localhost:8080/"
    },
    "id": "obfp-TcjOhN_",
    "outputId": "4740bb7d-bffd-419d-d91f-54b897ba0499"
   },
   "outputs": [
    {
     "data": {
      "text/plain": [
       "array([0.42714526, 9.31763555, 0.73628944, 5.17086823])"
      ]
     },
     "execution_count": 6,
     "metadata": {
      "tags": []
     },
     "output_type": "execute_result"
    }
   ],
   "source": [
    "#get class weights to balance the weights\n",
    "class_weights = class_weight.compute_class_weight('balanced',\n",
    "                                                 np.unique(y),\n",
    "                                                 y)\n",
    "class_weights"
   ]
  },
  {
   "cell_type": "code",
   "execution_count": null,
   "metadata": {
    "id": "wiWQc26FPCk2"
   },
   "outputs": [],
   "source": [
    "class_weights_dict = {0:0.42714526, 1:9.31763555, 2:0.73628944, 3:.17086823}"
   ]
  },
  {
   "cell_type": "code",
   "execution_count": null,
   "metadata": {
    "colab": {
     "base_uri": "https://localhost:8080/"
    },
    "id": "znKVKzGarPRr",
    "outputId": "bc926cbc-ea49-47f4-8b21-830db28971cd"
   },
   "outputs": [
    {
     "name": "stdout",
     "output_type": "stream",
     "text": [
      "Epoch 1/30\n",
      "15576/15576 [==============================] - 54s 3ms/step - loss: 0.6288 - accuracy: 0.5490 - val_loss: 0.7287 - val_accuracy: 0.7015\n",
      "Epoch 2/30\n",
      "15576/15576 [==============================] - 50s 3ms/step - loss: 0.4160 - accuracy: 0.6896 - val_loss: 0.6850 - val_accuracy: 0.7234\n",
      "Epoch 3/30\n",
      "15576/15576 [==============================] - 49s 3ms/step - loss: 0.3570 - accuracy: 0.7272 - val_loss: 0.6289 - val_accuracy: 0.7520\n",
      "Epoch 4/30\n",
      "15576/15576 [==============================] - 50s 3ms/step - loss: 0.3244 - accuracy: 0.7485 - val_loss: 0.6350 - val_accuracy: 0.7517\n",
      "Epoch 5/30\n",
      "15576/15576 [==============================] - 50s 3ms/step - loss: 0.3062 - accuracy: 0.7612 - val_loss: 0.5943 - val_accuracy: 0.7664\n",
      "Epoch 6/30\n",
      "15576/15576 [==============================] - 49s 3ms/step - loss: 0.2907 - accuracy: 0.7716 - val_loss: 0.5694 - val_accuracy: 0.7756\n",
      "Epoch 7/30\n",
      "15576/15576 [==============================] - 50s 3ms/step - loss: 0.2785 - accuracy: 0.7798 - val_loss: 0.5754 - val_accuracy: 0.7749\n",
      "Epoch 8/30\n",
      "15576/15576 [==============================] - 49s 3ms/step - loss: 0.2703 - accuracy: 0.7856 - val_loss: 0.5599 - val_accuracy: 0.7826\n",
      "Epoch 9/30\n",
      "15576/15576 [==============================] - 50s 3ms/step - loss: 0.2625 - accuracy: 0.7910 - val_loss: 0.5516 - val_accuracy: 0.7869\n",
      "Epoch 10/30\n",
      "15576/15576 [==============================] - 49s 3ms/step - loss: 0.2549 - accuracy: 0.7963 - val_loss: 0.5354 - val_accuracy: 0.7945\n",
      "Epoch 11/30\n",
      "15576/15576 [==============================] - 50s 3ms/step - loss: 0.2498 - accuracy: 0.8002 - val_loss: 0.5367 - val_accuracy: 0.7900\n",
      "Epoch 12/30\n",
      "15576/15576 [==============================] - 49s 3ms/step - loss: 0.2454 - accuracy: 0.8033 - val_loss: 0.5630 - val_accuracy: 0.7893\n",
      "Epoch 13/30\n",
      "15576/15576 [==============================] - 50s 3ms/step - loss: 0.2411 - accuracy: 0.8063 - val_loss: 0.5037 - val_accuracy: 0.8089\n",
      "Epoch 14/30\n",
      "15576/15576 [==============================] - 49s 3ms/step - loss: 0.2360 - accuracy: 0.8099 - val_loss: 0.5368 - val_accuracy: 0.8005\n",
      "Epoch 15/30\n",
      "15576/15576 [==============================] - 50s 3ms/step - loss: 0.2332 - accuracy: 0.8128 - val_loss: 0.4914 - val_accuracy: 0.8092\n",
      "Epoch 16/30\n",
      "15576/15576 [==============================] - 49s 3ms/step - loss: 0.2316 - accuracy: 0.8137 - val_loss: 0.4884 - val_accuracy: 0.8179\n",
      "Epoch 17/30\n",
      "15576/15576 [==============================] - 49s 3ms/step - loss: 0.2290 - accuracy: 0.8157 - val_loss: 0.4654 - val_accuracy: 0.8214\n",
      "Epoch 18/30\n",
      "15576/15576 [==============================] - 50s 3ms/step - loss: 0.2251 - accuracy: 0.8187 - val_loss: 0.5048 - val_accuracy: 0.8063\n",
      "Epoch 19/30\n",
      "15576/15576 [==============================] - 50s 3ms/step - loss: 0.2263 - accuracy: 0.8184 - val_loss: 0.4753 - val_accuracy: 0.8185\n",
      "Epoch 20/30\n",
      "15576/15576 [==============================] - 49s 3ms/step - loss: 0.2258 - accuracy: 0.8209 - val_loss: 0.4657 - val_accuracy: 0.8247\n",
      "Epoch 21/30\n",
      "15576/15576 [==============================] - 49s 3ms/step - loss: 0.2215 - accuracy: 0.8220 - val_loss: 0.4630 - val_accuracy: 0.8256\n",
      "Epoch 22/30\n",
      "15576/15576 [==============================] - 50s 3ms/step - loss: 0.2188 - accuracy: 0.8238 - val_loss: 0.4677 - val_accuracy: 0.8229\n",
      "Epoch 23/30\n",
      "15576/15576 [==============================] - 49s 3ms/step - loss: 0.2159 - accuracy: 0.8260 - val_loss: 0.4473 - val_accuracy: 0.8306\n",
      "Epoch 24/30\n",
      "15576/15576 [==============================] - 49s 3ms/step - loss: 0.2245 - accuracy: 0.8253 - val_loss: 0.4894 - val_accuracy: 0.8198\n",
      "Epoch 25/30\n",
      "15576/15576 [==============================] - 50s 3ms/step - loss: 0.2146 - accuracy: 0.8273 - val_loss: 0.4639 - val_accuracy: 0.8239\n",
      "Epoch 26/30\n",
      "15576/15576 [==============================] - 50s 3ms/step - loss: 0.2131 - accuracy: 0.8285 - val_loss: 0.4988 - val_accuracy: 0.8187\n",
      "Epoch 27/30\n",
      "15576/15576 [==============================] - 49s 3ms/step - loss: 0.2137 - accuracy: 0.8287 - val_loss: 0.4728 - val_accuracy: 0.8286\n",
      "Epoch 28/30\n",
      "15576/15576 [==============================] - 50s 3ms/step - loss: 0.2101 - accuracy: 0.8307 - val_loss: 0.4747 - val_accuracy: 0.8259\n",
      "Epoch 29/30\n",
      "15576/15576 [==============================] - 49s 3ms/step - loss: 0.2086 - accuracy: 0.8318 - val_loss: 0.4780 - val_accuracy: 0.8211\n",
      "Epoch 30/30\n",
      "15576/15576 [==============================] - 52s 3ms/step - loss: 0.2115 - accuracy: 0.8312 - val_loss: 0.4588 - val_accuracy: 0.8299\n"
     ]
    },
    {
     "data": {
      "text/plain": [
       "<tensorflow.python.keras.callbacks.History at 0x7feeb0527290>"
      ]
     },
     "execution_count": 9,
     "metadata": {
      "tags": []
     },
     "output_type": "execute_result"
    }
   ],
   "source": [
    "num_classes=4\n",
    "input_shape=(23,)\n",
    "\n",
    "#create model\n",
    "model = Sequential()\n",
    "# model.add(Dropout(0.5, input_shape=input_shape))\n",
    "model.add((Dense(512, input_shape=input_shape, activation='relu', kernel_initializer='he_normal')))\n",
    "# model.add(BatchNormalization())\n",
    "# model.add(Dropout(0.5))\n",
    "model.add((Dense(256, activation='relu', kernel_initializer='he_normal')))\n",
    "# model.add(BatchNormalization())\n",
    "# model.add(Dropout(0.5))\n",
    "model.add((Dense(128, activation='relu', kernel_initializer='he_normal')))\n",
    "# model.add(BatchNormalization())\n",
    "# model.add(Dropout(0.5))\n",
    "model.add(Dense(64, activation='relu', kernel_initializer='he_normal'))\n",
    "# model.add(BatchNormalization())\n",
    "model.add(Dense(num_classes, activation='softmax'))\n",
    "\n",
    "# compile model and train\n",
    "model.compile(loss='categorical_crossentropy', optimizer='adam', metrics=['accuracy'])\n",
    "model.fit(X_train, y_train, validation_data=(X_cv, y_cv), epochs=30, \n",
    "          class_weight=class_weights_dict, batch_size=250, verbose=1)"
   ]
  },
  {
   "cell_type": "code",
   "execution_count": null,
   "metadata": {
    "id": "8fT692jQ-BX6"
   },
   "outputs": [],
   "source": [
    "#save model\n",
    "model.save(\"model.h5\")"
   ]
  },
  {
   "cell_type": "code",
   "execution_count": null,
   "metadata": {
    "id": "j8PP1B-wyh6-"
   },
   "outputs": [],
   "source": [
    "#copy to google drive\n",
    "!cp '/content/model.h5' '/content/drive/MyDrive/applied aic/case studies/rcaf/models/'"
   ]
  },
  {
   "cell_type": "code",
   "execution_count": null,
   "metadata": {
    "id": "jELMzBCyBYT_"
   },
   "outputs": [],
   "source": [
    "#load model from disk\n",
    "loaded_model = load_model('model.h5')"
   ]
  },
  {
   "cell_type": "markdown",
   "metadata": {
    "id": "wV4jMnKdxvaH"
   },
   "source": [
    "**Prediction on cross validation data**"
   ]
  },
  {
   "cell_type": "code",
   "execution_count": null,
   "metadata": {
    "colab": {
     "base_uri": "https://localhost:8080/"
    },
    "id": "XIXnJJxjxcaq",
    "outputId": "6437579f-77f7-4764-f994-7682377c5966"
   },
   "outputs": [
    {
     "name": "stdout",
     "output_type": "stream",
     "text": [
      "0.4587093038799746\n"
     ]
    }
   ],
   "source": [
    "# #get probabilities of cv data and log loss. \n",
    "MLP_cv_predictions = loaded_model.predict_proba(X_cv)\n",
    "print(log_loss(y_cv, MLP_cv_predictions))"
   ]
  },
  {
   "cell_type": "markdown",
   "metadata": {
    "id": "PFsIWnW8yEXH"
   },
   "source": [
    "**Prediction on actual test data**"
   ]
  },
  {
   "cell_type": "code",
   "execution_count": null,
   "metadata": {
    "colab": {
     "base_uri": "https://localhost:8080/"
    },
    "id": "lmfyLjiGx6yh",
    "outputId": "bb4f043f-57f0-4987-db01-9ebce32fbd99"
   },
   "outputs": [
    {
     "name": "stdout",
     "output_type": "stream",
     "text": [
      "[[9.2764199e-01 1.2552453e-04 3.5183791e-02 3.7048750e-02]\n",
      " [9.6408594e-01 6.0933088e-03 2.9183492e-02 6.3728500e-04]\n",
      " [9.2790425e-01 4.5848914e-04 3.0472806e-02 4.1164488e-02]\n",
      " ...\n",
      " [6.4715511e-01 7.1098446e-05 3.4953043e-01 3.2432796e-03]\n",
      " [4.2966405e-01 9.3176015e-05 5.6624764e-01 3.9951177e-03]\n",
      " [6.6558594e-01 6.2499057e-05 3.2979774e-01 4.5537776e-03]]\n"
     ]
    }
   ],
   "source": [
    "#get probabilities of test data\n",
    "MLP_test_predictions = loaded_model.predict_proba(test_LTB)\n",
    "print(MLP_test_predictions)"
   ]
  },
  {
   "cell_type": "markdown",
   "metadata": {
    "id": "khRb9XNXzblu"
   },
   "source": [
    "**Kaggle submission**"
   ]
  },
  {
   "cell_type": "code",
   "execution_count": null,
   "metadata": {
    "id": "YT_E5zCizbl8"
   },
   "outputs": [],
   "source": [
    "#create described submission file by kaggle.\n",
    "#file must have id, A, B, C, D columns\n",
    "submission_MLP = pd.DataFrame(np.concatenate((np.arange(len(test_LTB))[:, np.newaxis], MLP_test_predictions), \n",
    "                                         axis=1), columns=['id', 'A', 'B', 'C', 'D'],)\n",
    "submission_MLP['id'] = submission_MLP['id'].astype(int)"
   ]
  },
  {
   "cell_type": "code",
   "execution_count": null,
   "metadata": {
    "colab": {
     "base_uri": "https://localhost:8080/",
     "height": 419
    },
    "id": "reGsD5d5zbl9",
    "outputId": "d739afe9-c7ea-4904-a763-12fa44a24823"
   },
   "outputs": [
    {
     "data": {
      "text/html": [
       "<div>\n",
       "<style scoped>\n",
       "    .dataframe tbody tr th:only-of-type {\n",
       "        vertical-align: middle;\n",
       "    }\n",
       "\n",
       "    .dataframe tbody tr th {\n",
       "        vertical-align: top;\n",
       "    }\n",
       "\n",
       "    .dataframe thead th {\n",
       "        text-align: right;\n",
       "    }\n",
       "</style>\n",
       "<table border=\"1\" class=\"dataframe\">\n",
       "  <thead>\n",
       "    <tr style=\"text-align: right;\">\n",
       "      <th></th>\n",
       "      <th>id</th>\n",
       "      <th>A</th>\n",
       "      <th>B</th>\n",
       "      <th>C</th>\n",
       "      <th>D</th>\n",
       "    </tr>\n",
       "  </thead>\n",
       "  <tbody>\n",
       "    <tr>\n",
       "      <th>0</th>\n",
       "      <td>0</td>\n",
       "      <td>0.927642</td>\n",
       "      <td>1.255245e-04</td>\n",
       "      <td>0.035184</td>\n",
       "      <td>0.037049</td>\n",
       "    </tr>\n",
       "    <tr>\n",
       "      <th>1</th>\n",
       "      <td>1</td>\n",
       "      <td>0.964086</td>\n",
       "      <td>6.093309e-03</td>\n",
       "      <td>0.029183</td>\n",
       "      <td>0.000637</td>\n",
       "    </tr>\n",
       "    <tr>\n",
       "      <th>2</th>\n",
       "      <td>2</td>\n",
       "      <td>0.927904</td>\n",
       "      <td>4.584891e-04</td>\n",
       "      <td>0.030473</td>\n",
       "      <td>0.041164</td>\n",
       "    </tr>\n",
       "    <tr>\n",
       "      <th>3</th>\n",
       "      <td>3</td>\n",
       "      <td>0.956333</td>\n",
       "      <td>8.006345e-03</td>\n",
       "      <td>0.034792</td>\n",
       "      <td>0.000868</td>\n",
       "    </tr>\n",
       "    <tr>\n",
       "      <th>4</th>\n",
       "      <td>4</td>\n",
       "      <td>0.838910</td>\n",
       "      <td>8.330413e-08</td>\n",
       "      <td>0.083634</td>\n",
       "      <td>0.077456</td>\n",
       "    </tr>\n",
       "    <tr>\n",
       "      <th>...</th>\n",
       "      <td>...</td>\n",
       "      <td>...</td>\n",
       "      <td>...</td>\n",
       "      <td>...</td>\n",
       "      <td>...</td>\n",
       "    </tr>\n",
       "    <tr>\n",
       "      <th>17965138</th>\n",
       "      <td>17965138</td>\n",
       "      <td>0.661342</td>\n",
       "      <td>9.290470e-05</td>\n",
       "      <td>0.333771</td>\n",
       "      <td>0.004794</td>\n",
       "    </tr>\n",
       "    <tr>\n",
       "      <th>17965139</th>\n",
       "      <td>17965139</td>\n",
       "      <td>0.404585</td>\n",
       "      <td>6.052982e-05</td>\n",
       "      <td>0.591955</td>\n",
       "      <td>0.003400</td>\n",
       "    </tr>\n",
       "    <tr>\n",
       "      <th>17965140</th>\n",
       "      <td>17965140</td>\n",
       "      <td>0.647155</td>\n",
       "      <td>7.109845e-05</td>\n",
       "      <td>0.349530</td>\n",
       "      <td>0.003243</td>\n",
       "    </tr>\n",
       "    <tr>\n",
       "      <th>17965141</th>\n",
       "      <td>17965141</td>\n",
       "      <td>0.429664</td>\n",
       "      <td>9.317602e-05</td>\n",
       "      <td>0.566248</td>\n",
       "      <td>0.003995</td>\n",
       "    </tr>\n",
       "    <tr>\n",
       "      <th>17965142</th>\n",
       "      <td>17965142</td>\n",
       "      <td>0.665586</td>\n",
       "      <td>6.249906e-05</td>\n",
       "      <td>0.329798</td>\n",
       "      <td>0.004554</td>\n",
       "    </tr>\n",
       "  </tbody>\n",
       "</table>\n",
       "<p>17965143 rows × 5 columns</p>\n",
       "</div>"
      ],
      "text/plain": [
       "                id         A             B         C         D\n",
       "0                0  0.927642  1.255245e-04  0.035184  0.037049\n",
       "1                1  0.964086  6.093309e-03  0.029183  0.000637\n",
       "2                2  0.927904  4.584891e-04  0.030473  0.041164\n",
       "3                3  0.956333  8.006345e-03  0.034792  0.000868\n",
       "4                4  0.838910  8.330413e-08  0.083634  0.077456\n",
       "...            ...       ...           ...       ...       ...\n",
       "17965138  17965138  0.661342  9.290470e-05  0.333771  0.004794\n",
       "17965139  17965139  0.404585  6.052982e-05  0.591955  0.003400\n",
       "17965140  17965140  0.647155  7.109845e-05  0.349530  0.003243\n",
       "17965141  17965141  0.429664  9.317602e-05  0.566248  0.003995\n",
       "17965142  17965142  0.665586  6.249906e-05  0.329798  0.004554\n",
       "\n",
       "[17965143 rows x 5 columns]"
      ]
     },
     "execution_count": 10,
     "metadata": {
      "tags": []
     },
     "output_type": "execute_result"
    }
   ],
   "source": [
    "submission_MLP"
   ]
  },
  {
   "cell_type": "code",
   "execution_count": null,
   "metadata": {
    "id": "3VwvSbpCzbl9"
   },
   "outputs": [],
   "source": [
    "#create csv file of results\n",
    "submission_MLP.to_csv('/content/submission_MLP3.csv', index=False)"
   ]
  },
  {
   "cell_type": "code",
   "execution_count": null,
   "metadata": {
    "id": "FdLwIzK0zbl-"
   },
   "outputs": [],
   "source": [
    "#copy results to drive\n",
    "!cp '/content/submission_MLP2.csv' '/content/drive/MyDrive/applied aic/case studies/rcaf/kaggle submissions'"
   ]
  },
  {
   "cell_type": "code",
   "execution_count": null,
   "metadata": {
    "colab": {
     "base_uri": "https://localhost:8080/"
    },
    "id": "v5dlYL7kzbl-",
    "outputId": "bcf50e61-69ec-4f30-fd52-27f8b1bac630"
   },
   "outputs": [
    {
     "name": "stdout",
     "output_type": "stream",
     "text": [
      "Warning: Your Kaggle API key is readable by other users on this system! To fix this, you can run 'chmod 600 /content/kaggle.json'\n",
      "Warning: Looks like you're using an outdated API Version, please consider updating (server 1.5.12 / client 1.5.4)\n",
      "100% 1.47G/1.47G [00:16<00:00, 97.2MB/s]\n",
      "Successfully submitted to Reducing Commercial Aviation Fatalities"
     ]
    }
   ],
   "source": [
    "#submit results from notebook to kaggle.\n",
    "!kaggle competitions submit -c reducing-commercial-aviation-fatalities -f submission_MLP3.csv -m \"This is final submission file tested on actual test data. MLP with keras is used. this file contains id A B C D columns as described.\""
   ]
  },
  {
   "cell_type": "markdown",
   "metadata": {
    "id": "kIU9GW8sP9NH"
   },
   "source": [
    "**MLP kaggle score**<br>"
   ]
  },
  {
   "cell_type": "markdown",
   "metadata": {
    "id": "GhCOnJbPDPCx"
   },
   "source": [
    "![submission_MLP.png](data:image/png;base64,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)"
   ]
  },
  {
   "cell_type": "markdown",
   "metadata": {
    "id": "O28N4PSjFmen"
   },
   "source": [
    "\n",
    "\n",
    "Private score - 2.17955<br>\n",
    "Public score - 3.05368"
   ]
  },
  {
   "cell_type": "markdown",
   "metadata": {
    "id": "mihf2QhDbD1l"
   },
   "source": [
    "## **Custom stacking ensemble model**<br>"
   ]
  },
  {
   "cell_type": "code",
   "execution_count": 4,
   "metadata": {
    "id": "G4eZtmMZinDj"
   },
   "outputs": [],
   "source": [
    "#1) Split your whole into train and test(80-20)\n",
    "#class labels\n",
    "y = train_LTB['event']\n",
    "#features\n",
    "X = train_LTB.drop(['event'], axis=1)\n",
    "#train test split\n",
    "X_train, X_cv, y_train, y_cv = train_test_split(X, y, test_size=0.2, stratify=y)"
   ]
  },
  {
   "cell_type": "code",
   "execution_count": 4,
   "metadata": {
    "colab": {
     "base_uri": "https://localhost:8080/"
    },
    "id": "lzjHK6vZz735",
    "outputId": "e02cc0c2-7cf1-4229-fb38-1ad2bda5715c"
   },
   "outputs": [
    {
     "name": "stdout",
     "output_type": "stream",
     "text": [
      "(3893936, 23) (973485, 23)\n",
      "(3893936,) (973485,)\n"
     ]
    }
   ],
   "source": [
    "print(X_train.shape, X_cv.shape)\n",
    "print(y_train.shape, y_cv.shape)"
   ]
  },
  {
   "cell_type": "code",
   "execution_count": 5,
   "metadata": {
    "id": "POIPuCj7zc7P"
   },
   "outputs": [],
   "source": [
    "#2) in the 80% train set, split the train set into D1 and D2.(50%-50%).\n",
    "D1_X, D2_X, D1_y, D2_y = train_test_split(X_train, y_train, test_size=0.5, stratify=y_train)"
   ]
  },
  {
   "cell_type": "code",
   "execution_count": 6,
   "metadata": {
    "colab": {
     "base_uri": "https://localhost:8080/"
    },
    "id": "3IuOwE5964Nz",
    "outputId": "2df2a7e9-794c-4a1f-b191-2c7e6c392898"
   },
   "outputs": [
    {
     "name": "stdout",
     "output_type": "stream",
     "text": [
      "(1946968, 23) (1946968,)\n"
     ]
    }
   ],
   "source": [
    "print(D1_X.shape, D1_y.shape)"
   ]
  },
  {
   "cell_type": "code",
   "execution_count": 6,
   "metadata": {
    "id": "4Xfu0FpvERKv"
   },
   "outputs": [],
   "source": [
    "#3 Perform sampling with replacement for Dataset D1\n",
    "def generating_samples(input_data, target_data):\n",
    "\n",
    "    #selecting rows randomly with replacement\n",
    "    selecting_rows = np.sort(np.random.choice(len(input_data), size=len(input_data), replace=True))     \n",
    "    #selecting columns\n",
    "    selecting_columns = np.sort(np.random.choice(input_data.shape[1], size=input_data.shape[1], replace=False) )  \n",
    "    #sampled rows\n",
    "    sample_data = input_data[selecting_rows[:,None],selecting_columns]\n",
    "    #sampled target\n",
    "    target_of_sample_data = target_data[selecting_rows]\n",
    "    \n",
    "    return sample_data, target_of_sample_data"
   ]
  },
  {
   "cell_type": "code",
   "execution_count": 7,
   "metadata": {
    "id": "SvCtLhLhPzxO"
   },
   "outputs": [],
   "source": [
    "#convert dataframe to numpy array\n",
    "a = pd.DataFrame(D1_X).to_numpy()\n",
    "b = pd.DataFrame(D1_y).to_numpy()"
   ]
  },
  {
   "cell_type": "code",
   "execution_count": 8,
   "metadata": {
    "id": "lQh4HlJKUaFY"
   },
   "outputs": [],
   "source": [
    "#generate 5 samples from data\n",
    "def generate_n_samples(a,b, samples=5):\n",
    "  \n",
    "    list_input_data =[]\n",
    "    list_output_data =[]\n",
    "\n",
    "    for i in range(samples):\n",
    "        c, d = generating_samples(a, b)\n",
    "        list_input_data.append(c)\n",
    "        list_output_data.append(d)   \n",
    "        \n",
    "    return list_input_data, list_output_data"
   ]
  },
  {
   "cell_type": "code",
   "execution_count": 9,
   "metadata": {
    "id": "5d96ezCMUxd8"
   },
   "outputs": [],
   "source": [
    "#lists of 5 samples generated from D1 dataset\n",
    "list_input_data, list_output_data = generate_n_samples(a,b)"
   ]
  },
  {
   "cell_type": "code",
   "execution_count": 11,
   "metadata": {
    "id": "t1lySCVZ2KSW"
   },
   "outputs": [],
   "source": [
    "#randomsearchcv on decision tree\n",
    "dt_clf = DecisionTreeClassifier(class_weight='balanced')\n",
    "\n",
    "dt_params = {\"max_depth\":list(range(300, 1001, 200)),\n",
    "             \"min_samples_leaf\":list(range(5, 21, 4)),\n",
    "             \"min_samples_split\":list(range(10, 41, 10))\n",
    "             }\n",
    "\n",
    "dt_rscv = RandomizedSearchCV(dt_clf, dt_params, cv=3, verbose=100, n_jobs=-1)\n",
    "dt_rscv.fit(list_input_data[0], list_output_data[0])"
   ]
  },
  {
   "cell_type": "code",
   "execution_count": null,
   "metadata": {
    "colab": {
     "base_uri": "https://localhost:8080/"
    },
    "id": "Ybx7cZ7o-1qC",
    "outputId": "3ecf54ac-bd2d-41b9-db07-020df4280399"
   },
   "outputs": [
    {
     "name": "stdout",
     "output_type": "stream",
     "text": [
      "best parameters: {'min_samples_split': 10, 'min_samples_leaf': 5, 'max_depth': 700}\n"
     ]
    }
   ],
   "source": [
    "print('best parameters:',dt_rscv.best_params_)"
   ]
  },
  {
   "cell_type": "code",
   "execution_count": 12,
   "metadata": {
    "id": "cJZhG1rYvoAS"
   },
   "outputs": [],
   "source": [
    "#build n base models\n",
    "def build_base_learners(list_input_data, list_output_data):\n",
    "    list_of_all_models = []\n",
    "    for i in tqdm(range(0, len(list_input_data))):\n",
    "        # all base learners are decision tree classifiers.\n",
    "        model = DecisionTreeClassifier(max_depth=700, min_samples_split=10, \n",
    "                                       min_samples_leaf=5)\n",
    "        model.fit(list_input_data[i], list_output_data[i])\n",
    "        list_of_all_models.append(model)\n",
    "        \n",
    "    return list_of_all_models"
   ]
  },
  {
   "cell_type": "code",
   "execution_count": 13,
   "metadata": {
    "colab": {
     "base_uri": "https://localhost:8080/"
    },
    "id": "OKKm3L4rxfZg",
    "outputId": "ec6eef55-f62c-47a3-ec89-0df98b94a218"
   },
   "outputs": [
    {
     "name": "stderr",
     "output_type": "stream",
     "text": [
      "100%|██████████| 5/5 [13:52<00:00, 166.49s/it]\n"
     ]
    }
   ],
   "source": [
    "#get all trained base learners\n",
    "list_of_all_models = build_base_learners(list_input_data, list_output_data)"
   ]
  },
  {
   "cell_type": "code",
   "execution_count": null,
   "metadata": {
    "colab": {
     "base_uri": "https://localhost:8080/"
    },
    "id": "IXwagJhUKdGO",
    "outputId": "142620dc-5ed7-4bf6-fdd5-9e61627ea5b1"
   },
   "outputs": [
    {
     "data": {
      "text/plain": [
       "['models_list.pkl']"
      ]
     },
     "execution_count": 16,
     "metadata": {
      "tags": []
     },
     "output_type": "execute_result"
    }
   ],
   "source": [
    "#save list of models\n",
    "joblib.dump(list_of_all_models, 'models_list.pkl')"
   ]
  },
  {
   "cell_type": "code",
   "execution_count": null,
   "metadata": {
    "id": "BemM8lIEKuhw"
   },
   "outputs": [],
   "source": [
    "#copy to drive\n",
    "!cp '/content/models_list.pkl' '/content/drive/MyDrive/applied aic/case studies/rcaf/models'"
   ]
  },
  {
   "cell_type": "code",
   "execution_count": 8,
   "metadata": {
    "id": "A3Tdc9rlhTMU"
   },
   "outputs": [],
   "source": [
    "#load from drive\n",
    "list_of_all_models = joblib.load('/content/drive/MyDrive/applied aic/case studies/rcaf/models/models_list.pkl')"
   ]
  },
  {
   "cell_type": "code",
   "execution_count": 14,
   "metadata": {
    "id": "qH-QpuX4LDJ5"
   },
   "outputs": [],
   "source": [
    "#4 Now that we have n models- These are the base models, pass the D2 dataset to these models to get n predictions:\n",
    "predictions = []\n",
    "for i in list_of_all_models:\n",
    "  pred = list_of_all_models[list_of_all_models.index(i)].predict(D2_X)\n",
    "  predictions.append(pred)"
   ]
  },
  {
   "cell_type": "code",
   "execution_count": 15,
   "metadata": {
    "colab": {
     "base_uri": "https://localhost:8080/"
    },
    "id": "SyrQsh6XZfUZ",
    "outputId": "837b44cc-ec6f-43c5-8b4f-ae7666fb04ae"
   },
   "outputs": [
    {
     "data": {
      "text/plain": [
       "[array([1, 0, 0, ..., 0, 2, 0]),\n",
       " array([1, 2, 0, ..., 0, 2, 2]),\n",
       " array([1, 0, 0, ..., 0, 2, 2]),\n",
       " array([1, 2, 0, ..., 0, 2, 2]),\n",
       " array([1, 2, 0, ..., 0, 2, 2])]"
      ]
     },
     "execution_count": 15,
     "metadata": {
      "tags": []
     },
     "output_type": "execute_result"
    }
   ],
   "source": [
    "predictions"
   ]
  },
  {
   "cell_type": "code",
   "execution_count": 16,
   "metadata": {
    "colab": {
     "base_uri": "https://localhost:8080/",
     "height": 419
    },
    "id": "F6g6mERTYIVu",
    "outputId": "552cf9df-0546-4c24-f9d7-8e09a4a15267"
   },
   "outputs": [
    {
     "data": {
      "text/html": [
       "<div>\n",
       "<style scoped>\n",
       "    .dataframe tbody tr th:only-of-type {\n",
       "        vertical-align: middle;\n",
       "    }\n",
       "\n",
       "    .dataframe tbody tr th {\n",
       "        vertical-align: top;\n",
       "    }\n",
       "\n",
       "    .dataframe thead th {\n",
       "        text-align: right;\n",
       "    }\n",
       "</style>\n",
       "<table border=\"1\" class=\"dataframe\">\n",
       "  <thead>\n",
       "    <tr style=\"text-align: right;\">\n",
       "      <th></th>\n",
       "      <th>m1</th>\n",
       "      <th>m2</th>\n",
       "      <th>m3</th>\n",
       "      <th>m4</th>\n",
       "      <th>m5</th>\n",
       "    </tr>\n",
       "  </thead>\n",
       "  <tbody>\n",
       "    <tr>\n",
       "      <th>0</th>\n",
       "      <td>1</td>\n",
       "      <td>1</td>\n",
       "      <td>1</td>\n",
       "      <td>1</td>\n",
       "      <td>1</td>\n",
       "    </tr>\n",
       "    <tr>\n",
       "      <th>1</th>\n",
       "      <td>0</td>\n",
       "      <td>2</td>\n",
       "      <td>0</td>\n",
       "      <td>2</td>\n",
       "      <td>2</td>\n",
       "    </tr>\n",
       "    <tr>\n",
       "      <th>2</th>\n",
       "      <td>0</td>\n",
       "      <td>0</td>\n",
       "      <td>0</td>\n",
       "      <td>0</td>\n",
       "      <td>0</td>\n",
       "    </tr>\n",
       "    <tr>\n",
       "      <th>3</th>\n",
       "      <td>2</td>\n",
       "      <td>2</td>\n",
       "      <td>2</td>\n",
       "      <td>2</td>\n",
       "      <td>2</td>\n",
       "    </tr>\n",
       "    <tr>\n",
       "      <th>4</th>\n",
       "      <td>0</td>\n",
       "      <td>0</td>\n",
       "      <td>0</td>\n",
       "      <td>0</td>\n",
       "      <td>0</td>\n",
       "    </tr>\n",
       "    <tr>\n",
       "      <th>...</th>\n",
       "      <td>...</td>\n",
       "      <td>...</td>\n",
       "      <td>...</td>\n",
       "      <td>...</td>\n",
       "      <td>...</td>\n",
       "    </tr>\n",
       "    <tr>\n",
       "      <th>1946963</th>\n",
       "      <td>2</td>\n",
       "      <td>1</td>\n",
       "      <td>1</td>\n",
       "      <td>2</td>\n",
       "      <td>0</td>\n",
       "    </tr>\n",
       "    <tr>\n",
       "      <th>1946964</th>\n",
       "      <td>0</td>\n",
       "      <td>0</td>\n",
       "      <td>0</td>\n",
       "      <td>0</td>\n",
       "      <td>0</td>\n",
       "    </tr>\n",
       "    <tr>\n",
       "      <th>1946965</th>\n",
       "      <td>0</td>\n",
       "      <td>0</td>\n",
       "      <td>0</td>\n",
       "      <td>0</td>\n",
       "      <td>0</td>\n",
       "    </tr>\n",
       "    <tr>\n",
       "      <th>1946966</th>\n",
       "      <td>2</td>\n",
       "      <td>2</td>\n",
       "      <td>2</td>\n",
       "      <td>2</td>\n",
       "      <td>2</td>\n",
       "    </tr>\n",
       "    <tr>\n",
       "      <th>1946967</th>\n",
       "      <td>0</td>\n",
       "      <td>2</td>\n",
       "      <td>2</td>\n",
       "      <td>2</td>\n",
       "      <td>2</td>\n",
       "    </tr>\n",
       "  </tbody>\n",
       "</table>\n",
       "<p>1946968 rows × 5 columns</p>\n",
       "</div>"
      ],
      "text/plain": [
       "         m1  m2  m3  m4  m5\n",
       "0         1   1   1   1   1\n",
       "1         0   2   0   2   2\n",
       "2         0   0   0   0   0\n",
       "3         2   2   2   2   2\n",
       "4         0   0   0   0   0\n",
       "...      ..  ..  ..  ..  ..\n",
       "1946963   2   1   1   2   0\n",
       "1946964   0   0   0   0   0\n",
       "1946965   0   0   0   0   0\n",
       "1946966   2   2   2   2   2\n",
       "1946967   0   2   2   2   2\n",
       "\n",
       "[1946968 rows x 5 columns]"
      ]
     },
     "execution_count": 16,
     "metadata": {
      "tags": []
     },
     "output_type": "execute_result"
    }
   ],
   "source": [
    "#create dataset from predictions\n",
    "D_meta = pd.DataFrame({'m1':predictions[0], 'm2':predictions[1], 'm3':predictions[2],\n",
    "                         'm4':predictions[3],'m5':predictions[4]})\n",
    "D_meta"
   ]
  },
  {
   "cell_type": "code",
   "execution_count": 17,
   "metadata": {
    "colab": {
     "base_uri": "https://localhost:8080/"
    },
    "id": "1x0ylhSOGqjm",
    "outputId": "3f39a249-a537-4daa-a5ab-599cbccafe0b"
   },
   "outputs": [
    {
     "data": {
      "text/plain": [
       "XGBClassifier(base_score=0.5, booster='gbtree', colsample_bylevel=1,\n",
       "              colsample_bynode=1, colsample_bytree=1, gamma=0,\n",
       "              learning_rate=0.1, max_delta_step=0, max_depth=3,\n",
       "              min_child_weight=1, missing=None, n_estimators=100, n_jobs=1,\n",
       "              nthread=None, objective='multi:softprob', random_state=0,\n",
       "              reg_alpha=0, reg_lambda=1, scale_pos_weight=1, seed=None,\n",
       "              silent=None, subsample=1, verbosity=1)"
      ]
     },
     "execution_count": 17,
     "metadata": {
      "tags": []
     },
     "output_type": "execute_result"
    }
   ],
   "source": [
    "#train xgb with D_meta as meta classifier\n",
    "xgb_model = XGBClassifier()\n",
    "xgb_model.fit(D_meta, D2_y)"
   ]
  },
  {
   "cell_type": "code",
   "execution_count": 23,
   "metadata": {
    "id": "ToBOQXm_eU3f"
   },
   "outputs": [],
   "source": [
    "#cross validation predicion on 20% data splitted in first step\n",
    "predictions = []\n",
    "for i in list_of_all_models:\n",
    "  pred = list_of_all_models[list_of_all_models.index(i)].predict(X_cv)\n",
    "  predictions.append(pred)"
   ]
  },
  {
   "cell_type": "code",
   "execution_count": 24,
   "metadata": {
    "colab": {
     "base_uri": "https://localhost:8080/"
    },
    "id": "doITUbsjeUuC",
    "outputId": "de39dd5e-90c6-4a1e-f631-6db8c7134937"
   },
   "outputs": [
    {
     "data": {
      "text/plain": [
       "[array([0, 0, 0, ..., 2, 2, 2]),\n",
       " array([0, 0, 0, ..., 2, 2, 2]),\n",
       " array([0, 0, 0, ..., 2, 2, 2]),\n",
       " array([0, 0, 0, ..., 2, 2, 2]),\n",
       " array([0, 0, 0, ..., 2, 2, 2])]"
      ]
     },
     "execution_count": 24,
     "metadata": {
      "tags": []
     },
     "output_type": "execute_result"
    }
   ],
   "source": [
    "predictions"
   ]
  },
  {
   "cell_type": "code",
   "execution_count": 34,
   "metadata": {
    "colab": {
     "base_uri": "https://localhost:8080/",
     "height": 419
    },
    "id": "9HpI_9HUe2uV",
    "outputId": "6d521365-4123-4652-b63d-3dd82dfce59d"
   },
   "outputs": [
    {
     "data": {
      "text/html": [
       "<div>\n",
       "<style scoped>\n",
       "    .dataframe tbody tr th:only-of-type {\n",
       "        vertical-align: middle;\n",
       "    }\n",
       "\n",
       "    .dataframe tbody tr th {\n",
       "        vertical-align: top;\n",
       "    }\n",
       "\n",
       "    .dataframe thead th {\n",
       "        text-align: right;\n",
       "    }\n",
       "</style>\n",
       "<table border=\"1\" class=\"dataframe\">\n",
       "  <thead>\n",
       "    <tr style=\"text-align: right;\">\n",
       "      <th></th>\n",
       "      <th>m1</th>\n",
       "      <th>m2</th>\n",
       "      <th>m3</th>\n",
       "      <th>m4</th>\n",
       "      <th>m5</th>\n",
       "    </tr>\n",
       "  </thead>\n",
       "  <tbody>\n",
       "    <tr>\n",
       "      <th>0</th>\n",
       "      <td>0</td>\n",
       "      <td>0</td>\n",
       "      <td>0</td>\n",
       "      <td>0</td>\n",
       "      <td>0</td>\n",
       "    </tr>\n",
       "    <tr>\n",
       "      <th>1</th>\n",
       "      <td>0</td>\n",
       "      <td>0</td>\n",
       "      <td>0</td>\n",
       "      <td>0</td>\n",
       "      <td>0</td>\n",
       "    </tr>\n",
       "    <tr>\n",
       "      <th>2</th>\n",
       "      <td>0</td>\n",
       "      <td>0</td>\n",
       "      <td>0</td>\n",
       "      <td>0</td>\n",
       "      <td>0</td>\n",
       "    </tr>\n",
       "    <tr>\n",
       "      <th>3</th>\n",
       "      <td>0</td>\n",
       "      <td>0</td>\n",
       "      <td>0</td>\n",
       "      <td>0</td>\n",
       "      <td>0</td>\n",
       "    </tr>\n",
       "    <tr>\n",
       "      <th>4</th>\n",
       "      <td>2</td>\n",
       "      <td>2</td>\n",
       "      <td>2</td>\n",
       "      <td>2</td>\n",
       "      <td>2</td>\n",
       "    </tr>\n",
       "    <tr>\n",
       "      <th>...</th>\n",
       "      <td>...</td>\n",
       "      <td>...</td>\n",
       "      <td>...</td>\n",
       "      <td>...</td>\n",
       "      <td>...</td>\n",
       "    </tr>\n",
       "    <tr>\n",
       "      <th>973480</th>\n",
       "      <td>2</td>\n",
       "      <td>2</td>\n",
       "      <td>2</td>\n",
       "      <td>2</td>\n",
       "      <td>2</td>\n",
       "    </tr>\n",
       "    <tr>\n",
       "      <th>973481</th>\n",
       "      <td>2</td>\n",
       "      <td>2</td>\n",
       "      <td>2</td>\n",
       "      <td>2</td>\n",
       "      <td>2</td>\n",
       "    </tr>\n",
       "    <tr>\n",
       "      <th>973482</th>\n",
       "      <td>2</td>\n",
       "      <td>2</td>\n",
       "      <td>2</td>\n",
       "      <td>2</td>\n",
       "      <td>2</td>\n",
       "    </tr>\n",
       "    <tr>\n",
       "      <th>973483</th>\n",
       "      <td>2</td>\n",
       "      <td>2</td>\n",
       "      <td>2</td>\n",
       "      <td>2</td>\n",
       "      <td>2</td>\n",
       "    </tr>\n",
       "    <tr>\n",
       "      <th>973484</th>\n",
       "      <td>2</td>\n",
       "      <td>2</td>\n",
       "      <td>2</td>\n",
       "      <td>2</td>\n",
       "      <td>2</td>\n",
       "    </tr>\n",
       "  </tbody>\n",
       "</table>\n",
       "<p>973485 rows × 5 columns</p>\n",
       "</div>"
      ],
      "text/plain": [
       "        m1  m2  m3  m4  m5\n",
       "0        0   0   0   0   0\n",
       "1        0   0   0   0   0\n",
       "2        0   0   0   0   0\n",
       "3        0   0   0   0   0\n",
       "4        2   2   2   2   2\n",
       "...     ..  ..  ..  ..  ..\n",
       "973480   2   2   2   2   2\n",
       "973481   2   2   2   2   2\n",
       "973482   2   2   2   2   2\n",
       "973483   2   2   2   2   2\n",
       "973484   2   2   2   2   2\n",
       "\n",
       "[973485 rows x 5 columns]"
      ]
     },
     "execution_count": 34,
     "metadata": {
      "tags": []
     },
     "output_type": "execute_result"
    }
   ],
   "source": [
    "D_cv_meta = pd.DataFrame({'m1':predictions[0], 'm2':predictions[1], 'm3':predictions[2],\n",
    "                         'm4':predictions[3],'m5':predictions[4]})\n",
    "D_cv_meta"
   ]
  },
  {
   "cell_type": "code",
   "execution_count": 35,
   "metadata": {
    "colab": {
     "base_uri": "https://localhost:8080/"
    },
    "id": "Wr9EGcI1gEfu",
    "outputId": "4f21ba3e-eb81-498e-d1fc-d9ef2e10fc87"
   },
   "outputs": [
    {
     "data": {
      "text/plain": [
       "array([[9.9408793e-01, 9.5012382e-04, 3.3785063e-03, 1.5834650e-03],\n",
       "       [9.9408793e-01, 9.5012382e-04, 3.3785063e-03, 1.5834650e-03],\n",
       "       [9.9408793e-01, 9.5012382e-04, 3.3785063e-03, 1.5834650e-03],\n",
       "       ...,\n",
       "       [3.6265515e-03, 3.3394652e-04, 9.9562681e-01, 4.1262622e-04],\n",
       "       [3.6265515e-03, 3.3394652e-04, 9.9562681e-01, 4.1262622e-04],\n",
       "       [3.6265515e-03, 3.3394652e-04, 9.9562681e-01, 4.1262622e-04]],\n",
       "      dtype=float32)"
      ]
     },
     "execution_count": 35,
     "metadata": {
      "tags": []
     },
     "output_type": "execute_result"
    }
   ],
   "source": [
    "pred_cv = xgb_model.predict_proba(D_cv_meta)\n",
    "pred_cv"
   ]
  },
  {
   "cell_type": "code",
   "execution_count": 18,
   "metadata": {
    "id": "29QOfUlUkxuA"
   },
   "outputs": [],
   "source": [
    "#actual test data prediction\n",
    "predictions = []\n",
    "for i in list_of_all_models:\n",
    "  pred = list_of_all_models[list_of_all_models.index(i)].predict(test_LTB)\n",
    "  predictions.append(pred)"
   ]
  },
  {
   "cell_type": "code",
   "execution_count": 19,
   "metadata": {
    "colab": {
     "base_uri": "https://localhost:8080/",
     "height": 419
    },
    "id": "pYOAZ1vRmFN8",
    "outputId": "2ae7aa56-3ba9-4494-a117-41ef3002068a"
   },
   "outputs": [
    {
     "data": {
      "text/html": [
       "<div>\n",
       "<style scoped>\n",
       "    .dataframe tbody tr th:only-of-type {\n",
       "        vertical-align: middle;\n",
       "    }\n",
       "\n",
       "    .dataframe tbody tr th {\n",
       "        vertical-align: top;\n",
       "    }\n",
       "\n",
       "    .dataframe thead th {\n",
       "        text-align: right;\n",
       "    }\n",
       "</style>\n",
       "<table border=\"1\" class=\"dataframe\">\n",
       "  <thead>\n",
       "    <tr style=\"text-align: right;\">\n",
       "      <th></th>\n",
       "      <th>m1</th>\n",
       "      <th>m2</th>\n",
       "      <th>m3</th>\n",
       "      <th>m4</th>\n",
       "      <th>m5</th>\n",
       "    </tr>\n",
       "  </thead>\n",
       "  <tbody>\n",
       "    <tr>\n",
       "      <th>0</th>\n",
       "      <td>0</td>\n",
       "      <td>0</td>\n",
       "      <td>0</td>\n",
       "      <td>0</td>\n",
       "      <td>0</td>\n",
       "    </tr>\n",
       "    <tr>\n",
       "      <th>1</th>\n",
       "      <td>0</td>\n",
       "      <td>0</td>\n",
       "      <td>0</td>\n",
       "      <td>0</td>\n",
       "      <td>0</td>\n",
       "    </tr>\n",
       "    <tr>\n",
       "      <th>2</th>\n",
       "      <td>0</td>\n",
       "      <td>0</td>\n",
       "      <td>0</td>\n",
       "      <td>0</td>\n",
       "      <td>0</td>\n",
       "    </tr>\n",
       "    <tr>\n",
       "      <th>3</th>\n",
       "      <td>0</td>\n",
       "      <td>0</td>\n",
       "      <td>0</td>\n",
       "      <td>0</td>\n",
       "      <td>0</td>\n",
       "    </tr>\n",
       "    <tr>\n",
       "      <th>4</th>\n",
       "      <td>0</td>\n",
       "      <td>0</td>\n",
       "      <td>3</td>\n",
       "      <td>0</td>\n",
       "      <td>0</td>\n",
       "    </tr>\n",
       "    <tr>\n",
       "      <th>...</th>\n",
       "      <td>...</td>\n",
       "      <td>...</td>\n",
       "      <td>...</td>\n",
       "      <td>...</td>\n",
       "      <td>...</td>\n",
       "    </tr>\n",
       "    <tr>\n",
       "      <th>17965138</th>\n",
       "      <td>2</td>\n",
       "      <td>0</td>\n",
       "      <td>2</td>\n",
       "      <td>2</td>\n",
       "      <td>2</td>\n",
       "    </tr>\n",
       "    <tr>\n",
       "      <th>17965139</th>\n",
       "      <td>2</td>\n",
       "      <td>0</td>\n",
       "      <td>2</td>\n",
       "      <td>2</td>\n",
       "      <td>2</td>\n",
       "    </tr>\n",
       "    <tr>\n",
       "      <th>17965140</th>\n",
       "      <td>2</td>\n",
       "      <td>0</td>\n",
       "      <td>0</td>\n",
       "      <td>2</td>\n",
       "      <td>2</td>\n",
       "    </tr>\n",
       "    <tr>\n",
       "      <th>17965141</th>\n",
       "      <td>2</td>\n",
       "      <td>0</td>\n",
       "      <td>0</td>\n",
       "      <td>2</td>\n",
       "      <td>2</td>\n",
       "    </tr>\n",
       "    <tr>\n",
       "      <th>17965142</th>\n",
       "      <td>2</td>\n",
       "      <td>0</td>\n",
       "      <td>0</td>\n",
       "      <td>2</td>\n",
       "      <td>2</td>\n",
       "    </tr>\n",
       "  </tbody>\n",
       "</table>\n",
       "<p>17965143 rows × 5 columns</p>\n",
       "</div>"
      ],
      "text/plain": [
       "          m1  m2  m3  m4  m5\n",
       "0          0   0   0   0   0\n",
       "1          0   0   0   0   0\n",
       "2          0   0   0   0   0\n",
       "3          0   0   0   0   0\n",
       "4          0   0   3   0   0\n",
       "...       ..  ..  ..  ..  ..\n",
       "17965138   2   0   2   2   2\n",
       "17965139   2   0   2   2   2\n",
       "17965140   2   0   0   2   2\n",
       "17965141   2   0   0   2   2\n",
       "17965142   2   0   0   2   2\n",
       "\n",
       "[17965143 rows x 5 columns]"
      ]
     },
     "execution_count": 19,
     "metadata": {
      "tags": []
     },
     "output_type": "execute_result"
    }
   ],
   "source": [
    "D_test_meta = pd.DataFrame({'m1':predictions[0], 'm2':predictions[1], 'm3':predictions[2],\n",
    "                         'm4':predictions[3],'m5':predictions[4]})\n",
    "D_test_meta"
   ]
  },
  {
   "cell_type": "code",
   "execution_count": 20,
   "metadata": {
    "colab": {
     "base_uri": "https://localhost:8080/"
    },
    "id": "Sq0vLRibmOgz",
    "outputId": "526b3964-c81b-4c74-ac21-88bd48b4d386"
   },
   "outputs": [
    {
     "data": {
      "text/plain": [
       "array([[9.9463344e-01, 9.6474122e-04, 3.0257779e-03, 1.3760935e-03],\n",
       "       [9.9463344e-01, 9.6474122e-04, 3.0257779e-03, 1.3760935e-03],\n",
       "       [9.9463344e-01, 9.6474122e-04, 3.0257779e-03, 1.3760935e-03],\n",
       "       ...,\n",
       "       [1.8332691e-01, 4.4195377e-03, 8.0890369e-01, 3.3498511e-03],\n",
       "       [1.8332691e-01, 4.4195377e-03, 8.0890369e-01, 3.3498511e-03],\n",
       "       [1.8332691e-01, 4.4195377e-03, 8.0890369e-01, 3.3498511e-03]],\n",
       "      dtype=float32)"
      ]
     },
     "execution_count": 20,
     "metadata": {
      "tags": []
     },
     "output_type": "execute_result"
    }
   ],
   "source": [
    "pred_test = xgb_model.predict_proba(D_test_meta)\n",
    "pred_test"
   ]
  },
  {
   "cell_type": "markdown",
   "metadata": {
    "id": "d7sIec9jOwwS"
   },
   "source": [
    "**kaggle submission**"
   ]
  },
  {
   "cell_type": "code",
   "execution_count": 21,
   "metadata": {
    "id": "byTlS79pmkhQ"
   },
   "outputs": [],
   "source": [
    "submission_stacking = pd.DataFrame(np.concatenate((np.arange(len(test_LTB))[:, np.newaxis], pred_test), \n",
    "                                         axis=1), columns=['id', 'A', 'B', 'C', 'D'],)\n",
    "submission_stacking['id'] = submission_stacking['id'].astype(int)"
   ]
  },
  {
   "cell_type": "code",
   "execution_count": 22,
   "metadata": {
    "colab": {
     "base_uri": "https://localhost:8080/",
     "height": 419
    },
    "id": "yX8PNEL2m4ii",
    "outputId": "2c0dc693-4eb2-45e1-81ca-a1c0a6a93bc9"
   },
   "outputs": [
    {
     "data": {
      "text/html": [
       "<div>\n",
       "<style scoped>\n",
       "    .dataframe tbody tr th:only-of-type {\n",
       "        vertical-align: middle;\n",
       "    }\n",
       "\n",
       "    .dataframe tbody tr th {\n",
       "        vertical-align: top;\n",
       "    }\n",
       "\n",
       "    .dataframe thead th {\n",
       "        text-align: right;\n",
       "    }\n",
       "</style>\n",
       "<table border=\"1\" class=\"dataframe\">\n",
       "  <thead>\n",
       "    <tr style=\"text-align: right;\">\n",
       "      <th></th>\n",
       "      <th>id</th>\n",
       "      <th>A</th>\n",
       "      <th>B</th>\n",
       "      <th>C</th>\n",
       "      <th>D</th>\n",
       "    </tr>\n",
       "  </thead>\n",
       "  <tbody>\n",
       "    <tr>\n",
       "      <th>0</th>\n",
       "      <td>0</td>\n",
       "      <td>0.994633</td>\n",
       "      <td>0.000965</td>\n",
       "      <td>0.003026</td>\n",
       "      <td>0.001376</td>\n",
       "    </tr>\n",
       "    <tr>\n",
       "      <th>1</th>\n",
       "      <td>1</td>\n",
       "      <td>0.994633</td>\n",
       "      <td>0.000965</td>\n",
       "      <td>0.003026</td>\n",
       "      <td>0.001376</td>\n",
       "    </tr>\n",
       "    <tr>\n",
       "      <th>2</th>\n",
       "      <td>2</td>\n",
       "      <td>0.994633</td>\n",
       "      <td>0.000965</td>\n",
       "      <td>0.003026</td>\n",
       "      <td>0.001376</td>\n",
       "    </tr>\n",
       "    <tr>\n",
       "      <th>3</th>\n",
       "      <td>3</td>\n",
       "      <td>0.994633</td>\n",
       "      <td>0.000965</td>\n",
       "      <td>0.003026</td>\n",
       "      <td>0.001376</td>\n",
       "    </tr>\n",
       "    <tr>\n",
       "      <th>4</th>\n",
       "      <td>4</td>\n",
       "      <td>0.942485</td>\n",
       "      <td>0.003057</td>\n",
       "      <td>0.009231</td>\n",
       "      <td>0.045227</td>\n",
       "    </tr>\n",
       "    <tr>\n",
       "      <th>...</th>\n",
       "      <td>...</td>\n",
       "      <td>...</td>\n",
       "      <td>...</td>\n",
       "      <td>...</td>\n",
       "      <td>...</td>\n",
       "    </tr>\n",
       "    <tr>\n",
       "      <th>17965138</th>\n",
       "      <td>17965138</td>\n",
       "      <td>0.025699</td>\n",
       "      <td>0.001470</td>\n",
       "      <td>0.971816</td>\n",
       "      <td>0.001015</td>\n",
       "    </tr>\n",
       "    <tr>\n",
       "      <th>17965139</th>\n",
       "      <td>17965139</td>\n",
       "      <td>0.025699</td>\n",
       "      <td>0.001470</td>\n",
       "      <td>0.971816</td>\n",
       "      <td>0.001015</td>\n",
       "    </tr>\n",
       "    <tr>\n",
       "      <th>17965140</th>\n",
       "      <td>17965140</td>\n",
       "      <td>0.183327</td>\n",
       "      <td>0.004420</td>\n",
       "      <td>0.808904</td>\n",
       "      <td>0.003350</td>\n",
       "    </tr>\n",
       "    <tr>\n",
       "      <th>17965141</th>\n",
       "      <td>17965141</td>\n",
       "      <td>0.183327</td>\n",
       "      <td>0.004420</td>\n",
       "      <td>0.808904</td>\n",
       "      <td>0.003350</td>\n",
       "    </tr>\n",
       "    <tr>\n",
       "      <th>17965142</th>\n",
       "      <td>17965142</td>\n",
       "      <td>0.183327</td>\n",
       "      <td>0.004420</td>\n",
       "      <td>0.808904</td>\n",
       "      <td>0.003350</td>\n",
       "    </tr>\n",
       "  </tbody>\n",
       "</table>\n",
       "<p>17965143 rows × 5 columns</p>\n",
       "</div>"
      ],
      "text/plain": [
       "                id         A         B         C         D\n",
       "0                0  0.994633  0.000965  0.003026  0.001376\n",
       "1                1  0.994633  0.000965  0.003026  0.001376\n",
       "2                2  0.994633  0.000965  0.003026  0.001376\n",
       "3                3  0.994633  0.000965  0.003026  0.001376\n",
       "4                4  0.942485  0.003057  0.009231  0.045227\n",
       "...            ...       ...       ...       ...       ...\n",
       "17965138  17965138  0.025699  0.001470  0.971816  0.001015\n",
       "17965139  17965139  0.025699  0.001470  0.971816  0.001015\n",
       "17965140  17965140  0.183327  0.004420  0.808904  0.003350\n",
       "17965141  17965141  0.183327  0.004420  0.808904  0.003350\n",
       "17965142  17965142  0.183327  0.004420  0.808904  0.003350\n",
       "\n",
       "[17965143 rows x 5 columns]"
      ]
     },
     "execution_count": 22,
     "metadata": {
      "tags": []
     },
     "output_type": "execute_result"
    }
   ],
   "source": [
    "submission_stacking"
   ]
  },
  {
   "cell_type": "code",
   "execution_count": 23,
   "metadata": {
    "id": "VDJI1l2Lm3Os"
   },
   "outputs": [],
   "source": [
    "#create csv file of results\n",
    "submission_stacking.to_csv('/content/submission_stacking.csv', index=False)"
   ]
  },
  {
   "cell_type": "code",
   "execution_count": null,
   "metadata": {
    "id": "faC4qx6Gm3Ot"
   },
   "outputs": [],
   "source": [
    "#copy results to drive\n",
    "!cp '/content/submission_stacking.csv' '/content/drive/MyDrive/applied aic/case studies/rcaf/kaggle submissions'"
   ]
  },
  {
   "cell_type": "code",
   "execution_count": 26,
   "metadata": {
    "colab": {
     "base_uri": "https://localhost:8080/"
    },
    "id": "CZXZU2qtm3Ot",
    "outputId": "85466f79-b5e9-4042-8799-fbbe8e49aee0"
   },
   "outputs": [
    {
     "name": "stdout",
     "output_type": "stream",
     "text": [
      "Warning: Your Kaggle API key is readable by other users on this system! To fix this, you can run 'chmod 600 /content/kaggle.json'\n",
      "Warning: Looks like you're using an outdated API Version, please consider updating (server 1.5.12 / client 1.5.4)\n",
      "100% 1.54G/1.54G [01:25<00:00, 19.4MB/s]\n",
      "Successfully submitted to Reducing Commercial Aviation Fatalities"
     ]
    }
   ],
   "source": [
    "#submit results from notebook to kaggle.\n",
    "!kaggle competitions submit -c reducing-commercial-aviation-fatalities -f submission_stacking.csv -m \"This is final submission file tested on actual test data. custom stacking model is used. this file contains id A B C D columns as described.\""
   ]
  },
  {
   "cell_type": "markdown",
   "metadata": {
    "id": "v80ku1IRP4ip"
   },
   "source": [
    "**Custom stacking algorithm kaggle score**<br>"
   ]
  },
  {
   "cell_type": "markdown",
   "metadata": {
    "id": "vRAAEbOKCrGp"
   },
   "source": [
    "![submission_stacking.png](data:image/png;base64,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)"
   ]
  },
  {
   "cell_type": "markdown",
   "metadata": {
    "id": "QQpBmpbXC1LW"
   },
   "source": [
    "\n",
    "Private score - 1.91307<br>\n",
    "Public score - 1.94983"
   ]
  }
 ],
 "metadata": {
  "colab": {
   "collapsed_sections": [],
   "name": "2 RCAF_Build Models and Test.ipynb",
   "provenance": [],
   "toc_visible": true
  },
  "kernelspec": {
   "display_name": "Python 3",
   "language": "python",
   "name": "python3"
  },
  "language_info": {
   "codemirror_mode": {
    "name": "ipython",
    "version": 3
   },
   "file_extension": ".py",
   "mimetype": "text/x-python",
   "name": "python",
   "nbconvert_exporter": "python",
   "pygments_lexer": "ipython3",
   "version": "3.7.6"
  }
 },
 "nbformat": 4,
 "nbformat_minor": 1
}
